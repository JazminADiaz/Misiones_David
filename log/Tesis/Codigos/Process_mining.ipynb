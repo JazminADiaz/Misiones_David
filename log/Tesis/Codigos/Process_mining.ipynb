{
 "cells": [
  {
   "cell_type": "markdown",
   "metadata": {},
   "source": [
    "All information needed will be added in this code, each code has a markdown on top of it for an explanation"
   ]
  },
  {
   "cell_type": "markdown",
   "metadata": {},
   "source": [
    "Some libraries are added"
   ]
  },
  {
   "cell_type": "code",
   "execution_count": 18,
   "metadata": {},
   "outputs": [],
   "source": [
    "from bs4 import BeautifulSoup as bs\n",
    "\n",
    "import os, glob\n",
    "\n",
    "import shutil\n",
    "from IPython.utils.io import capture_output\n",
    "\n",
    "#from my_simulation import simulacion  \n",
    "\n"
   ]
  },
  {
   "cell_type": "markdown",
   "metadata": {},
   "source": [
    "First we add the activities of the mision, and the probability of success\n",
    "\n",
    "Go ahead and select option for a random collection of activities or use the example given (modify if like, the code will still work)\n"
   ]
  },
  {
   "cell_type": "code",
   "execution_count": 19,
   "metadata": {},
   "outputs": [],
   "source": [
    "#use the word \"manual\" or \"random\"\n",
    "mision_activities=\"manual\"\n",
    "\n",
    "#probability from 0 to 1\n",
    "fixed_prob=\"probability=0.85;\"\n",
    "\n",
    "#number of times the mision is repeated to be stored in one log\n",
    "repetition_numer=1\n",
    "\n",
    "#duration of the simulation in seconds\n",
    "timer=6000\n"
   ]
  },
  {
   "cell_type": "markdown",
   "metadata": {},
   "source": [
    "Here we define the activities"
   ]
  },
  {
   "cell_type": "code",
   "execution_count": 20,
   "metadata": {},
   "outputs": [],
   "source": [
    "def activities(prob_sucess):\n",
    "    ################################ ADD THE ACTIVITIES #######################################################     #delete previos content\n",
    "    file=\"/home/jazmin/tuttifrutti/log/Tesis/mision_variables/activities.txt\"\n",
    "    f = open(file, \"w\")\n",
    "    f.close()\n",
    "    f = open(file, \"a\")\n",
    "    f.write(prob_sucess)\n",
    "    f.write(\"\\n\") \n",
    "    f.write(\"activities[\\\"0_sec\\\"] = {21,22,23};\")\n",
    "    f.write(\"\\n\") \n",
    "    f.write(\"activities[\\\"1_con\\\"] = {21,25,26};\")\n",
    "    f.close()\n",
    "\n",
    "    ################################ ADD THE ACTIVITIES #######################################################\n"
   ]
  },
  {
   "cell_type": "markdown",
   "metadata": {},
   "source": [
    "execute the mision, you can change variable n_repetition "
   ]
  },
  {
   "cell_type": "markdown",
   "metadata": {},
   "source": [
    "Next line is executed when option manual is used, change the folder path to your needs\n",
    "\n",
    "\n",
    "you can change the number of repetitions of the mision."
   ]
  },
  {
   "cell_type": "code",
   "execution_count": 22,
   "metadata": {},
   "outputs": [
    {
     "name": "stdout",
     "output_type": "stream",
     "text": [
      "Simulación aqui.\n",
      "[  4%] \u001b[34m\u001b[1mAutomatic MOC for target argos3_demiurge_loop_functions\u001b[0m\n",
      "[  4%] Built target argos3_demiurge_loop_functions_autogen\n",
      "[ 16%] Built target argos3_demiurge_loop_functions\n",
      "[ 20%] \u001b[34m\u001b[1mAutomatic MOC for target tutti_tmt_loopfunc\u001b[0m\n",
      "[ 20%] Built target tutti_tmt_loopfunc_autogen\n",
      "\u001b[35m\u001b[1mScanning dependencies of target tutti_tmt_loopfunc\u001b[0m\n",
      "[ 25%] \u001b[32mBuilding CXX object loop-functions/moca/CMakeFiles/tutti_tmt_loopfunc.dir/TuttiTmTLoopFunc.cpp.o\u001b[0m\n",
      "In file included from \u001b[01m\u001b[K/home/jazmin/tuttifrutti/experiments-loop-functions/loop-functions/moca/TuttiTmTLoopFunc.cpp:11\u001b[m\u001b[K:\n",
      "\u001b[01m\u001b[K/home/jazmin/tuttifrutti/experiments-loop-functions/loop-functions/moca/TuttiTmTLoopFunc.h:96:5:\u001b[m\u001b[K \u001b[01;35m\u001b[Kwarning: \u001b[m\u001b[K\"/*\" within comment [\u001b[01;35m\u001b[K-Wcomment\u001b[m\u001b[K]\n",
      "   96 |     /*\n",
      "      |      \n",
      "\u001b[01m\u001b[K/home/jazmin/tuttifrutti/experiments-loop-functions/loop-functions/moca/TuttiTmTLoopFunc.cpp:\u001b[m\u001b[K In member function ‘\u001b[01m\u001b[Kvirtual void TuttiTmTLoopFunction::Init(argos::TConfigurationNode&)\u001b[m\u001b[K’:\n",
      "\u001b[01m\u001b[K/home/jazmin/tuttifrutti/experiments-loop-functions/loop-functions/moca/TuttiTmTLoopFunc.cpp:42:28:\u001b[m\u001b[K \u001b[01;35m\u001b[Kwarning: \u001b[m\u001b[Kcatching polymorphic type ‘\u001b[01m\u001b[Kclass std::exception\u001b[m\u001b[K’ by value [\u001b[01;35m\u001b[K-Wcatch-value=\u001b[m\u001b[K]\n",
      "   42 |     } catch(std::exception \u001b[01;35m\u001b[Ke\u001b[m\u001b[K) {\n",
      "      |                            \u001b[01;35m\u001b[K^\u001b[m\u001b[K\n",
      "\u001b[01m\u001b[K/home/jazmin/tuttifrutti/experiments-loop-functions/loop-functions/moca/TuttiTmTLoopFunc.cpp:\u001b[m\u001b[K In function ‘\u001b[01m\u001b[Kvoid print(const std::vector<int>&)\u001b[m\u001b[K’:\n",
      "\u001b[01m\u001b[K/home/jazmin/tuttifrutti/experiments-loop-functions/loop-functions/moca/TuttiTmTLoopFunc.cpp:154:19:\u001b[m\u001b[K \u001b[01;35m\u001b[Kwarning: \u001b[m\u001b[Kcomparison of integer expressions of different signedness: ‘\u001b[01m\u001b[Kint\u001b[m\u001b[K’ and ‘\u001b[01m\u001b[Kstd::vector<int>::size_type\u001b[m\u001b[K’ {aka ‘\u001b[01m\u001b[Klong unsigned int\u001b[m\u001b[K’} [\u001b[01;35m\u001b[K-Wsign-compare\u001b[m\u001b[K]\n",
      "  154 |    for(int i=0; \u001b[01;35m\u001b[Ki < a.size()\u001b[m\u001b[K; i++)\n",
      "      |                 \u001b[01;35m\u001b[K~~^~~~~~~~~~\u001b[m\u001b[K\n",
      "\u001b[01m\u001b[K/home/jazmin/tuttifrutti/experiments-loop-functions/loop-functions/moca/TuttiTmTLoopFunc.cpp:\u001b[m\u001b[K In function ‘\u001b[01m\u001b[Kvoid print2(const std::vector<double>&)\u001b[m\u001b[K’:\n",
      "\u001b[01m\u001b[K/home/jazmin/tuttifrutti/experiments-loop-functions/loop-functions/moca/TuttiTmTLoopFunc.cpp:162:19:\u001b[m\u001b[K \u001b[01;35m\u001b[Kwarning: \u001b[m\u001b[Kcomparison of integer expressions of different signedness: ‘\u001b[01m\u001b[Kint\u001b[m\u001b[K’ and ‘\u001b[01m\u001b[Kstd::vector<double>::size_type\u001b[m\u001b[K’ {aka ‘\u001b[01m\u001b[Klong unsigned int\u001b[m\u001b[K’} [\u001b[01;35m\u001b[K-Wsign-compare\u001b[m\u001b[K]\n",
      "  162 |    for(int i=0; \u001b[01;35m\u001b[Ki < a.size()\u001b[m\u001b[K; i++)\n",
      "      |                 \u001b[01;35m\u001b[K~~^~~~~~~~~~\u001b[m\u001b[K\n",
      "\u001b[01m\u001b[K/home/jazmin/tuttifrutti/experiments-loop-functions/loop-functions/moca/TuttiTmTLoopFunc.cpp:\u001b[m\u001b[K In function ‘\u001b[01m\u001b[Kargos::Real sides(argos::Real, argos::Real, argos::Real, argos::Real, argos::Real, argos::Real, argos::Real)\u001b[m\u001b[K’:\n",
      "\u001b[01m\u001b[K/home/jazmin/tuttifrutti/experiments-loop-functions/loop-functions/moca/TuttiTmTLoopFunc.cpp:204:8:\u001b[m\u001b[K \u001b[01;35m\u001b[Kwarning: \u001b[m\u001b[Kleft operand of comma operator has no effect [\u001b[01;35m\u001b[K-Wunused-value\u001b[m\u001b[K]\n",
      "  204 | return \u001b[01;35m\u001b[Kleft\u001b[m\u001b[K, right, up, down;\n",
      "      |        \u001b[01;35m\u001b[K^~~~\u001b[m\u001b[K\n",
      "\u001b[01m\u001b[K/home/jazmin/tuttifrutti/experiments-loop-functions/loop-functions/moca/TuttiTmTLoopFunc.cpp:204:21:\u001b[m\u001b[K \u001b[01;35m\u001b[Kwarning: \u001b[m\u001b[Kright operand of comma operator has no effect [\u001b[01;35m\u001b[K-Wunused-value\u001b[m\u001b[K]\n",
      "  204 | return left, right, \u001b[01;35m\u001b[Kup\u001b[m\u001b[K, down;\n",
      "      |                     \u001b[01;35m\u001b[K^~\u001b[m\u001b[K\n",
      "\u001b[01m\u001b[K/home/jazmin/tuttifrutti/experiments-loop-functions/loop-functions/moca/TuttiTmTLoopFunc.cpp:204:25:\u001b[m\u001b[K \u001b[01;35m\u001b[Kwarning: \u001b[m\u001b[Kright operand of comma operator has no effect [\u001b[01;35m\u001b[K-Wunused-value\u001b[m\u001b[K]\n",
      "  204 | return left, right, up, \u001b[01;35m\u001b[Kdown\u001b[m\u001b[K;\n",
      "      |                         \u001b[01;35m\u001b[K^~~~\u001b[m\u001b[K\n",
      "\u001b[01m\u001b[K/home/jazmin/tuttifrutti/experiments-loop-functions/loop-functions/moca/TuttiTmTLoopFunc.cpp:\u001b[m\u001b[K In member function ‘\u001b[01m\u001b[Kvirtual argos::CColor TuttiTmTLoopFunction::GetFloorColor(const argos::CVector2&)\u001b[m\u001b[K’:\n",
      "\u001b[01m\u001b[K/home/jazmin/tuttifrutti/experiments-loop-functions/loop-functions/moca/TuttiTmTLoopFunc.cpp:210:20:\u001b[m\u001b[K \u001b[01;35m\u001b[Kwarning: \u001b[m\u001b[Kcomparison of integer expressions of different signedness: ‘\u001b[01m\u001b[Kint\u001b[m\u001b[K’ and ‘\u001b[01m\u001b[Kstd::vector<double>::size_type\u001b[m\u001b[K’ {aka ‘\u001b[01m\u001b[Klong unsigned int\u001b[m\u001b[K’} [\u001b[01;35m\u001b[K-Wsign-compare\u001b[m\u001b[K]\n",
      "  210 |     for(int i=0; \u001b[01;35m\u001b[Ki < Tam_back_x.size()\u001b[m\u001b[K; i++){\n",
      "      |                  \u001b[01;35m\u001b[K~~^~~~~~~~~~~~~~~~~~~\u001b[m\u001b[K\n",
      "\u001b[01m\u001b[K/home/jazmin/tuttifrutti/experiments-loop-functions/loop-functions/moca/TuttiTmTLoopFunc.cpp:211:5:\u001b[m\u001b[K \u001b[01;35m\u001b[Kwarning: \u001b[m\u001b[Kleft operand of comma operator has no effect [\u001b[01;35m\u001b[K-Wunused-value\u001b[m\u001b[K]\n",
      "  211 |     \u001b[01;35m\u001b[Kleft\u001b[m\u001b[K, right, up, down= sides (Tam_side1_x.at(i), Tam_side1_y.at(i), Tam_side2_x.at(i), Tam_side2_y.at(i), Tam_back_x.at(i), Tam_back_y.at(i), 0.08);\n",
      "      |     \u001b[01;35m\u001b[K^~~~\u001b[m\u001b[K\n",
      "\u001b[01m\u001b[K/home/jazmin/tuttifrutti/experiments-loop-functions/loop-functions/moca/TuttiTmTLoopFunc.cpp:211:18:\u001b[m\u001b[K \u001b[01;35m\u001b[Kwarning: \u001b[m\u001b[Kright operand of comma operator has no effect [\u001b[01;35m\u001b[K-Wunused-value\u001b[m\u001b[K]\n",
      "  211 |     left, right, \u001b[01;35m\u001b[Kup\u001b[m\u001b[K, down= sides (Tam_side1_x.at(i), Tam_side1_y.at(i), Tam_side2_x.at(i), Tam_side2_y.at(i), Tam_back_x.at(i), Tam_back_y.at(i), 0.08);\n",
      "      |                  \u001b[01;35m\u001b[K^~\u001b[m\u001b[K\n",
      "\u001b[01m\u001b[K/home/jazmin/tuttifrutti/experiments-loop-functions/loop-functions/moca/TuttiTmTLoopFunc.cpp:211:151:\u001b[m\u001b[K \u001b[01;35m\u001b[Kwarning: \u001b[m\u001b[Kright operand of comma operator has no effect [\u001b[01;35m\u001b[K-Wunused-value\u001b[m\u001b[K]\n",
      "  211 | , Tam_side2_y.at(i), Tam_back_x.at(i), Tam_back_y.at(i), 0.08\u001b[01;35m\u001b[K)\u001b[m\u001b[K;\n",
      "      |                                                              \u001b[01;35m\u001b[K^\u001b[m\u001b[K\n",
      "\n",
      "\u001b[01m\u001b[K/home/jazmin/tuttifrutti/experiments-loop-functions/loop-functions/moca/TuttiTmTLoopFunc.cpp:\u001b[m\u001b[K In member function ‘\u001b[01m\u001b[Kvoid TuttiTmTLoopFunction::Gates()\u001b[m\u001b[K’:\n",
      "\u001b[01m\u001b[K/home/jazmin/tuttifrutti/experiments-loop-functions/loop-functions/moca/TuttiTmTLoopFunc.cpp:222:27:\u001b[m\u001b[K \u001b[01;35m\u001b[Kwarning: \u001b[m\u001b[Kcomparison of integer expressions of different signedness: ‘\u001b[01m\u001b[Kint\u001b[m\u001b[K’ and ‘\u001b[01m\u001b[Kstd::vector<std::__cxx11::basic_string<char> >::size_type\u001b[m\u001b[K’ {aka ‘\u001b[01m\u001b[Klong unsigned int\u001b[m\u001b[K’} [\u001b[01;35m\u001b[K-Wsign-compare\u001b[m\u001b[K]\n",
      "  222 |         for (int i = 0; \u001b[01;35m\u001b[Ki < key.size()\u001b[m\u001b[K; i++) {\n",
      "      |                         \u001b[01;35m\u001b[K~~^~~~~~~~~~~~\u001b[m\u001b[K\n",
      "\u001b[01m\u001b[K/home/jazmin/tuttifrutti/experiments-loop-functions/loop-functions/moca/TuttiTmTLoopFunc.cpp:224:77:\u001b[m\u001b[K \u001b[01;35m\u001b[Kwarning: \u001b[m\u001b[Kcomparison of integer expressions of different signedness: ‘\u001b[01m\u001b[Kint\u001b[m\u001b[K’ and ‘\u001b[01m\u001b[Kstd::vector<std::__cxx11::basic_string<char> >::size_type\u001b[m\u001b[K’ {aka ‘\u001b[01m\u001b[Klong unsigned int\u001b[m\u001b[K’} [\u001b[01;35m\u001b[K-Wsign-compare\u001b[m\u001b[K]\n",
      "  224 | GetSpace().GetSimulationClock()>=(timer_simulation-1) and \u001b[01;35m\u001b[Kflag_a!=(key.size())\u001b[m\u001b[K)\n",
      "      |                                                           \u001b[01;35m\u001b[K~~~~~~^~~~~~~~~~~~~~\u001b[m\u001b[K\n",
      "\n",
      "\u001b[01m\u001b[K/home/jazmin/tuttifrutti/experiments-loop-functions/loop-functions/moca/TuttiTmTLoopFunc.cpp:\u001b[m\u001b[K In member function ‘\u001b[01m\u001b[Kargos::Real TuttiTmTLoopFunction::con(const std::vector<double>&)\u001b[m\u001b[K’:\n",
      "\u001b[01m\u001b[K/home/jazmin/tuttifrutti/experiments-loop-functions/loop-functions/moca/TuttiTmTLoopFunc.cpp:333:24:\u001b[m\u001b[K \u001b[01;35m\u001b[Kwarning: \u001b[m\u001b[Kcomparison of integer expressions of different signedness: ‘\u001b[01m\u001b[Kint\u001b[m\u001b[K’ and ‘\u001b[01m\u001b[Kstd::vector<double>::size_type\u001b[m\u001b[K’ {aka ‘\u001b[01m\u001b[Klong unsigned int\u001b[m\u001b[K’} [\u001b[01;35m\u001b[K-Wsign-compare\u001b[m\u001b[K]\n",
      "  333 |         for(int i=0; \u001b[01;35m\u001b[Ki <a.size()\u001b[m\u001b[K; i++){\n",
      "      |                      \u001b[01;35m\u001b[K~~^~~~~~~~~\u001b[m\u001b[K\n",
      "\u001b[01m\u001b[K/home/jazmin/tuttifrutti/experiments-loop-functions/loop-functions/moca/TuttiTmTLoopFunc.cpp:354:20:\u001b[m\u001b[K \u001b[01;35m\u001b[Kwarning: \u001b[m\u001b[Kcomparison of integer expressions of different signedness: ‘\u001b[01m\u001b[Kint\u001b[m\u001b[K’ and ‘\u001b[01m\u001b[Kstd::vector<double>::size_type\u001b[m\u001b[K’ {aka ‘\u001b[01m\u001b[Klong unsigned int\u001b[m\u001b[K’} [\u001b[01;35m\u001b[K-Wsign-compare\u001b[m\u001b[K]\n",
      "  354 |     for(int i=0; \u001b[01;35m\u001b[Ki <a.size()\u001b[m\u001b[K; i++){\n",
      "      |                  \u001b[01;35m\u001b[K~~^~~~~~~~~\u001b[m\u001b[K\n",
      "\u001b[01m\u001b[K/home/jazmin/tuttifrutti/experiments-loop-functions/loop-functions/moca/TuttiTmTLoopFunc.cpp:355:10:\u001b[m\u001b[K \u001b[01;35m\u001b[Kwarning: \u001b[m\u001b[Kcomparison of integer expressions of different signedness: ‘\u001b[01m\u001b[Kint\u001b[m\u001b[K’ and ‘\u001b[01m\u001b[Kstd::vector<double>::size_type\u001b[m\u001b[K’ {aka ‘\u001b[01m\u001b[Klong unsigned int\u001b[m\u001b[K’} [\u001b[01;35m\u001b[K-Wsign-compare\u001b[m\u001b[K]\n",
      "  355 |     if (\u001b[01;35m\u001b[Ki<a.size()\u001b[m\u001b[K and flag_reboot==0 and  ((Tam_color.at(a.at(i))==0) or (Tam_color.at(a.at(i))==3))){\n",
      "      |         \u001b[01;35m\u001b[K~^~~~~~~~~\u001b[m\u001b[K\n",
      "\u001b[01m\u001b[K/home/jazmin/tuttifrutti/experiments-loop-functions/loop-functions/moca/TuttiTmTLoopFunc.cpp:366:20:\u001b[m\u001b[K \u001b[01;35m\u001b[Kwarning: \u001b[m\u001b[Kcomparison of integer expressions of different signedness: ‘\u001b[01m\u001b[Kint\u001b[m\u001b[K’ and ‘\u001b[01m\u001b[Kstd::vector<double>::size_type\u001b[m\u001b[K’ {aka ‘\u001b[01m\u001b[Klong unsigned int\u001b[m\u001b[K’} [\u001b[01;35m\u001b[K-Wsign-compare\u001b[m\u001b[K]\n",
      "  366 |     for(int i=0; \u001b[01;35m\u001b[Ki <a.size()\u001b[m\u001b[K; i++){\n",
      "      |                  \u001b[01;35m\u001b[K~~^~~~~~~~~\u001b[m\u001b[K\n",
      "\u001b[01m\u001b[K/home/jazmin/tuttifrutti/experiments-loop-functions/loop-functions/moca/TuttiTmTLoopFunc.cpp:371:15:\u001b[m\u001b[K \u001b[01;35m\u001b[Kwarning: \u001b[m\u001b[Kcomparison of integer expressions of different signedness: ‘\u001b[01m\u001b[Kint\u001b[m\u001b[K’ and ‘\u001b[01m\u001b[Kstd::vector<double>::size_type\u001b[m\u001b[K’ {aka ‘\u001b[01m\u001b[Klong unsigned int\u001b[m\u001b[K’} [\u001b[01;35m\u001b[K-Wsign-compare\u001b[m\u001b[K]\n",
      "  371 |     if (\u001b[01;35m\u001b[Kflag_b==a.size()\u001b[m\u001b[K){\n",
      "      |         \u001b[01;35m\u001b[K~~~~~~^~~~~~~~~~\u001b[m\u001b[K\n",
      "\u001b[01m\u001b[K/home/jazmin/tuttifrutti/experiments-loop-functions/loop-functions/moca/TuttiTmTLoopFunc.cpp:373:24:\u001b[m\u001b[K \u001b[01;35m\u001b[Kwarning: \u001b[m\u001b[Kcomparison of integer expressions of different signedness: ‘\u001b[01m\u001b[Kint\u001b[m\u001b[K’ and ‘\u001b[01m\u001b[Kstd::vector<double>::size_type\u001b[m\u001b[K’ {aka ‘\u001b[01m\u001b[Klong unsigned int\u001b[m\u001b[K’} [\u001b[01;35m\u001b[K-Wsign-compare\u001b[m\u001b[K]\n",
      "  373 |         for(int i=0; \u001b[01;35m\u001b[Ki <a.size()\u001b[m\u001b[K; i++){\n",
      "      |                      \u001b[01;35m\u001b[K~~^~~~~~~~~\u001b[m\u001b[K\n",
      "\u001b[01m\u001b[K/home/jazmin/tuttifrutti/experiments-loop-functions/loop-functions/moca/TuttiTmTLoopFunc.cpp:383:28:\u001b[m\u001b[K \u001b[01;35m\u001b[Kwarning: \u001b[m\u001b[Kcomparison of integer expressions of different signedness: ‘\u001b[01m\u001b[Kint\u001b[m\u001b[K’ and ‘\u001b[01m\u001b[Kstd::vector<double>::size_type\u001b[m\u001b[K’ {aka ‘\u001b[01m\u001b[Klong unsigned int\u001b[m\u001b[K’} [\u001b[01;35m\u001b[K-Wsign-compare\u001b[m\u001b[K]\n",
      "  383 |             for(int i=0; \u001b[01;35m\u001b[Ki <a.size()\u001b[m\u001b[K; i++){\n",
      "      |                          \u001b[01;35m\u001b[K~~^~~~~~~~~\u001b[m\u001b[K\n",
      "\u001b[01m\u001b[K/home/jazmin/tuttifrutti/experiments-loop-functions/loop-functions/moca/TuttiTmTLoopFunc.cpp:389:28:\u001b[m\u001b[K \u001b[01;35m\u001b[Kwarning: \u001b[m\u001b[Kcomparison of integer expressions of different signedness: ‘\u001b[01m\u001b[Kint\u001b[m\u001b[K’ and ‘\u001b[01m\u001b[Kstd::vector<double>::size_type\u001b[m\u001b[K’ {aka ‘\u001b[01m\u001b[Klong unsigned int\u001b[m\u001b[K’} [\u001b[01;35m\u001b[K-Wsign-compare\u001b[m\u001b[K]\n",
      "  389 |             for(int i=0; \u001b[01;35m\u001b[Ki <a.size()\u001b[m\u001b[K; i++){\n",
      "      |                          \u001b[01;35m\u001b[K~~^~~~~~~~~\u001b[m\u001b[K\n",
      "\u001b[01m\u001b[K/home/jazmin/tuttifrutti/experiments-loop-functions/loop-functions/moca/TuttiTmTLoopFunc.cpp:\u001b[m\u001b[K In member function ‘\u001b[01m\u001b[Kargos::Real TuttiTmTLoopFunction::robots_con(argos::Real)\u001b[m\u001b[K’:\n",
      "\u001b[01m\u001b[K/home/jazmin/tuttifrutti/experiments-loop-functions/loop-functions/moca/TuttiTmTLoopFunc.cpp:425:24:\u001b[m\u001b[K \u001b[01;35m\u001b[Kwarning: \u001b[m\u001b[Kcomparison of integer expressions of different signedness: ‘\u001b[01m\u001b[Kint\u001b[m\u001b[K’ and ‘\u001b[01m\u001b[Kstd::vector<double>::size_type\u001b[m\u001b[K’ {aka ‘\u001b[01m\u001b[Klong unsigned int\u001b[m\u001b[K’} [\u001b[01;35m\u001b[K-Wsign-compare\u001b[m\u001b[K]\n",
      "  425 |         for(int i=0; \u001b[01;35m\u001b[Ki < Tam_back_x.size()\u001b[m\u001b[K; i++){\n",
      "      |                      \u001b[01;35m\u001b[K~~^~~~~~~~~~~~~~~~~~~\u001b[m\u001b[K\n",
      "\u001b[01m\u001b[K/home/jazmin/tuttifrutti/experiments-loop-functions/loop-functions/moca/TuttiTmTLoopFunc.cpp:426:9:\u001b[m\u001b[K \u001b[01;35m\u001b[Kwarning: \u001b[m\u001b[Kleft operand of comma operator has no effect [\u001b[01;35m\u001b[K-Wunused-value\u001b[m\u001b[K]\n",
      "  426 |         \u001b[01;35m\u001b[Kleft\u001b[m\u001b[K, right, up, down= sides (Tam_side1_x.at(i), Tam_side1_y.at(i), Tam_side2_x.at(i), Tam_side2_y.at(i), Tam_back_x.at(i), Tam_back_y.at(i), 0.10);\n",
      "      |         \u001b[01;35m\u001b[K^~~~\u001b[m\u001b[K\n",
      "\u001b[01m\u001b[K/home/jazmin/tuttifrutti/experiments-loop-functions/loop-functions/moca/TuttiTmTLoopFunc.cpp:426:22:\u001b[m\u001b[K \u001b[01;35m\u001b[Kwarning: \u001b[m\u001b[Kright operand of comma operator has no effect [\u001b[01;35m\u001b[K-Wunused-value\u001b[m\u001b[K]\n",
      "  426 |         left, right, \u001b[01;35m\u001b[Kup\u001b[m\u001b[K, down= sides (Tam_side1_x.at(i), Tam_side1_y.at(i), Tam_side2_x.at(i), Tam_side2_y.at(i), Tam_back_x.at(i), Tam_back_y.at(i), 0.10);\n",
      "      |                      \u001b[01;35m\u001b[K^~\u001b[m\u001b[K\n",
      "\u001b[01m\u001b[K/home/jazmin/tuttifrutti/experiments-loop-functions/loop-functions/moca/TuttiTmTLoopFunc.cpp:426:155:\u001b[m\u001b[K \u001b[01;35m\u001b[Kwarning: \u001b[m\u001b[Kright operand of comma operator has no effect [\u001b[01;35m\u001b[K-Wunused-value\u001b[m\u001b[K]\n",
      "  426 | , Tam_side2_y.at(i), Tam_back_x.at(i), Tam_back_y.at(i), 0.10\u001b[01;35m\u001b[K)\u001b[m\u001b[K;\n",
      "      |                                                              \u001b[01;35m\u001b[K^\u001b[m\u001b[K\n",
      "\n",
      "\u001b[01m\u001b[K/home/jazmin/tuttifrutti/experiments-loop-functions/loop-functions/moca/TuttiTmTLoopFunc.cpp:\u001b[m\u001b[K In member function ‘\u001b[01m\u001b[Kargos::Real TuttiTmTLoopFunction::sec(const std::vector<double>&)\u001b[m\u001b[K’:\n",
      "\u001b[01m\u001b[K/home/jazmin/tuttifrutti/experiments-loop-functions/loop-functions/moca/TuttiTmTLoopFunc.cpp:453:20:\u001b[m\u001b[K \u001b[01;35m\u001b[Kwarning: \u001b[m\u001b[Kcomparison of integer expressions of different signedness: ‘\u001b[01m\u001b[Kint\u001b[m\u001b[K’ and ‘\u001b[01m\u001b[Kstd::vector<double>::size_type\u001b[m\u001b[K’ {aka ‘\u001b[01m\u001b[Klong unsigned int\u001b[m\u001b[K’} [\u001b[01;35m\u001b[K-Wsign-compare\u001b[m\u001b[K]\n",
      "  453 |     for(int i=0; \u001b[01;35m\u001b[Ki <=a.size()\u001b[m\u001b[K; i++){\n",
      "      |                  \u001b[01;35m\u001b[K~~^~~~~~~~~~\u001b[m\u001b[K\n",
      "\u001b[01m\u001b[K/home/jazmin/tuttifrutti/experiments-loop-functions/loop-functions/moca/TuttiTmTLoopFunc.cpp:454:14:\u001b[m\u001b[K \u001b[01;35m\u001b[Kwarning: \u001b[m\u001b[Kcomparison of integer expressions of different signedness: ‘\u001b[01m\u001b[Kint\u001b[m\u001b[K’ and ‘\u001b[01m\u001b[Kstd::vector<double>::size_type\u001b[m\u001b[K’ {aka ‘\u001b[01m\u001b[Klong unsigned int\u001b[m\u001b[K’} [\u001b[01;35m\u001b[K-Wsign-compare\u001b[m\u001b[K]\n",
      "  454 |         if (\u001b[01;35m\u001b[Ki<a.size()\u001b[m\u001b[K){\n",
      "      |             \u001b[01;35m\u001b[K~^~~~~~~~~\u001b[m\u001b[K\n",
      "\u001b[01m\u001b[K/home/jazmin/tuttifrutti/experiments-loop-functions/loop-functions/moca/TuttiTmTLoopFunc.cpp:467:19:\u001b[m\u001b[K \u001b[01;35m\u001b[Kwarning: \u001b[m\u001b[Kcomparison of integer expressions of different signedness: ‘\u001b[01m\u001b[Kint\u001b[m\u001b[K’ and ‘\u001b[01m\u001b[Kstd::vector<double>::size_type\u001b[m\u001b[K’ {aka ‘\u001b[01m\u001b[Klong unsigned int\u001b[m\u001b[K’} [\u001b[01;35m\u001b[K-Wsign-compare\u001b[m\u001b[K]\n",
      "  467 |         if (\u001b[01;35m\u001b[Kflag_b==a.size()\u001b[m\u001b[K){\n",
      "      |             \u001b[01;35m\u001b[K~~~~~~^~~~~~~~~~\u001b[m\u001b[K\n",
      "\u001b[01m\u001b[K/home/jazmin/tuttifrutti/experiments-loop-functions/loop-functions/moca/TuttiTmTLoopFunc.cpp:\u001b[m\u001b[K In member function ‘\u001b[01m\u001b[Kargos::Real TuttiTmTLoopFunction::robots_sec(argos::Real)\u001b[m\u001b[K’:\n",
      "\u001b[01m\u001b[K/home/jazmin/tuttifrutti/experiments-loop-functions/loop-functions/moca/TuttiTmTLoopFunc.cpp:501:24:\u001b[m\u001b[K \u001b[01;35m\u001b[Kwarning: \u001b[m\u001b[Kcomparison of integer expressions of different signedness: ‘\u001b[01m\u001b[Kint\u001b[m\u001b[K’ and ‘\u001b[01m\u001b[Kstd::vector<double>::size_type\u001b[m\u001b[K’ {aka ‘\u001b[01m\u001b[Klong unsigned int\u001b[m\u001b[K’} [\u001b[01;35m\u001b[K-Wsign-compare\u001b[m\u001b[K]\n",
      "  501 |         for(int i=0; \u001b[01;35m\u001b[Ki < Tam_back_x.size()\u001b[m\u001b[K; i++){\n",
      "      |                      \u001b[01;35m\u001b[K~~^~~~~~~~~~~~~~~~~~~\u001b[m\u001b[K\n",
      "\u001b[01m\u001b[K/home/jazmin/tuttifrutti/experiments-loop-functions/loop-functions/moca/TuttiTmTLoopFunc.cpp:502:9:\u001b[m\u001b[K \u001b[01;35m\u001b[Kwarning: \u001b[m\u001b[Kleft operand of comma operator has no effect [\u001b[01;35m\u001b[K-Wunused-value\u001b[m\u001b[K]\n",
      "  502 |         \u001b[01;35m\u001b[Kleft\u001b[m\u001b[K, right, up, down= sides (Tam_side1_x.at(i), Tam_side1_y.at(i), Tam_side2_x.at(i), Tam_side2_y.at(i), Tam_back_x.at(i), Tam_back_y.at(i), 0.10);\n",
      "      |         \u001b[01;35m\u001b[K^~~~\u001b[m\u001b[K\n",
      "\u001b[01m\u001b[K/home/jazmin/tuttifrutti/experiments-loop-functions/loop-functions/moca/TuttiTmTLoopFunc.cpp:502:22:\u001b[m\u001b[K \u001b[01;35m\u001b[Kwarning: \u001b[m\u001b[Kright operand of comma operator has no effect [\u001b[01;35m\u001b[K-Wunused-value\u001b[m\u001b[K]\n",
      "  502 |         left, right, \u001b[01;35m\u001b[Kup\u001b[m\u001b[K, down= sides (Tam_side1_x.at(i), Tam_side1_y.at(i), Tam_side2_x.at(i), Tam_side2_y.at(i), Tam_back_x.at(i), Tam_back_y.at(i), 0.10);\n",
      "      |                      \u001b[01;35m\u001b[K^~\u001b[m\u001b[K\n",
      "\u001b[01m\u001b[K/home/jazmin/tuttifrutti/experiments-loop-functions/loop-functions/moca/TuttiTmTLoopFunc.cpp:502:155:\u001b[m\u001b[K \u001b[01;35m\u001b[Kwarning: \u001b[m\u001b[Kright operand of comma operator has no effect [\u001b[01;35m\u001b[K-Wunused-value\u001b[m\u001b[K]\n",
      "  502 | , Tam_side2_y.at(i), Tam_back_x.at(i), Tam_back_y.at(i), 0.10\u001b[01;35m\u001b[K)\u001b[m\u001b[K;\n",
      "      |                                                              \u001b[01;35m\u001b[K^\u001b[m\u001b[K\n",
      "\n",
      "\u001b[01m\u001b[K/home/jazmin/tuttifrutti/experiments-loop-functions/loop-functions/moca/TuttiTmTLoopFunc.cpp:\u001b[m\u001b[K In member function ‘\u001b[01m\u001b[Kargos::Real TuttiTmTLoopFunction::GetArenaRadious()\u001b[m\u001b[K’:\n",
      "\u001b[01m\u001b[K/home/jazmin/tuttifrutti/experiments-loop-functions/loop-functions/moca/TuttiTmTLoopFunc.cpp:612:14:\u001b[m\u001b[K \u001b[01;35m\u001b[Kwarning: \u001b[m\u001b[K‘\u001b[01m\u001b[KfRadious\u001b[m\u001b[K’ is used uninitialized in this function [\u001b[01;35m\u001b[K-Wuninitialized\u001b[m\u001b[K]\n",
      "  612 |     \u001b[01;35m\u001b[KfRadious = fRadious - 0.65\u001b[m\u001b[K; // Reduced cluster at the begining\n",
      "      |     \u001b[01;35m\u001b[K~~~~~~~~~^~~~~~~~~~~~~~~~~\u001b[m\u001b[K\n",
      "\u001b[01m\u001b[K/home/jazmin/tuttifrutti/experiments-loop-functions/loop-functions/moca/TuttiTmTLoopFunc.cpp:\u001b[m\u001b[K In member function ‘\u001b[01m\u001b[Kargos::Real TuttiTmTLoopFunction::sec(const std::vector<double>&)\u001b[m\u001b[K’:\n",
      "\u001b[01m\u001b[K/home/jazmin/tuttifrutti/experiments-loop-functions/loop-functions/moca/TuttiTmTLoopFunc.cpp:472:12:\u001b[m\u001b[K \u001b[01;35m\u001b[Kwarning: \u001b[m\u001b[K‘\u001b[01m\u001b[Kcheck\u001b[m\u001b[K’ may be used uninitialized in this function [\u001b[01;35m\u001b[K-Wmaybe-uninitialized\u001b[m\u001b[K]\n",
      "  472 |     return \u001b[01;35m\u001b[Kcheck\u001b[m\u001b[K;\n",
      "      |            \u001b[01;35m\u001b[K^~~~~\u001b[m\u001b[K\n",
      "[ 29%] \u001b[32m\u001b[1mLinking CXX shared library libtutti_tmt_loopfunc.so\u001b[0m\n",
      "[ 33%] Built target tutti_tmt_loopfunc\n",
      "[ 37%] \u001b[34m\u001b[1mAutomatic MOC for target tutti_tm_loopfunc\u001b[0m\n",
      "[ 37%] Built target tutti_tm_loopfunc_autogen\n",
      "[ 50%] Built target tutti_tm_loopfunc\n",
      "[ 54%] \u001b[34m\u001b[1mAutomatic MOC for target tutti_fr_loopfunc\u001b[0m\n",
      "[ 54%] Built target tutti_fr_loopfunc_autogen\n",
      "[ 66%] Built target tutti_fr_loopfunc\n",
      "[ 70%] \u001b[34m\u001b[1mAutomatic MOC for target tutti_ag_loopfunc\u001b[0m\n",
      "[ 70%] Built target tutti_ag_loopfunc_autogen\n",
      "[ 83%] Built target tutti_ag_loopfunc\n",
      "[ 87%] \u001b[34m\u001b[1mAutomatic MOC for target tutti_st_loopfunc\u001b[0m\n",
      "[ 87%] Built target tutti_st_loopfunc_autogen\n",
      "[100%] Built target tutti_st_loopfunc\n",
      "\u001b[1;32m[INFO] Loaded library \"\u001b[0m\u001b[1;32m/home/jazmin/tuttifrutti/argos3-dist/lib/argos3/libargos3plugin_simulator_dynamics2d.so\u001b[0m\u001b[1;32m\"\u001b[0m\n",
      "\u001b[1;32m[INFO] Loaded library \"\u001b[0m\u001b[1;32m/home/jazmin/tuttifrutti/argos3-dist/lib/argos3/libargos3plugin_simulator_entities.so\u001b[0m\u001b[1;32m\"\u001b[0m\n",
      "\u001b[1;32m[INFO] Loaded library \"\u001b[0m\u001b[1;32m/home/jazmin/tuttifrutti/argos3-dist/lib/argos3/libargos3_demiurge_loop_functions.so\u001b[0m\u001b[1;32m\"\u001b[0m\n",
      "\u001b[1;32m[INFO] Loaded library \"\u001b[0m\u001b[1;32m/home/jazmin/tuttifrutti/argos3-dist/lib/argos3/libargos3plugin_simulator_media.so\u001b[0m\u001b[1;32m\"\u001b[0m\n",
      "\u001b[1;32m[INFO] Loaded library \"\u001b[0m\u001b[1;32m/home/jazmin/tuttifrutti/argos3-dist/lib/argos3/libargos3plugin_simulator_arena.so\u001b[0m\u001b[1;32m\"\u001b[0m\n",
      "\u001b[1;32m[INFO] Loaded library \"\u001b[0m\u001b[1;32m/home/jazmin/tuttifrutti/argos3-dist/lib/argos3/libargos3plugin_simulator_footbot.so\u001b[0m\u001b[1;32m\"\u001b[0m\n",
      "\u001b[1;32m[INFO] Loaded library \"\u001b[0m\u001b[1;32m/home/jazmin/tuttifrutti/argos3-dist/lib/argos3/libargos3plugin_simulator_pointmass3d.so\u001b[0m\u001b[1;32m\"\u001b[0m\n",
      "\u001b[1;32m[INFO] Loaded library \"\u001b[0m\u001b[1;32m/home/jazmin/tuttifrutti/argos3-dist/lib/argos3/libargos3plugin_simulator_spiri.so\u001b[0m\u001b[1;32m\"\u001b[0m\n",
      "\u001b[1;32m[INFO] Loaded library \"\u001b[0m\u001b[1;32m/home/jazmin/tuttifrutti/argos3-dist/lib/argos3/libargos3_demiurge_epuck_dao.so\u001b[0m\u001b[1;32m\"\u001b[0m\n",
      "\u001b[1;32m[INFO] Loaded library \"\u001b[0m\u001b[1;32m/home/jazmin/tuttifrutti/argos3-dist/lib/argos3/libargos3core_simulator.so\u001b[0m\u001b[1;32m\"\u001b[0m\n",
      "\u001b[1;32m[INFO] Loaded library \"\u001b[0m\u001b[1;32m/home/jazmin/tuttifrutti/argos3-dist/lib/argos3/libargos3plugin_simulator_genericrobot.so\u001b[0m\u001b[1;32m\"\u001b[0m\n",
      "\u001b[1;32m[INFO] Loaded library \"\u001b[0m\u001b[1;32m/home/jazmin/tuttifrutti/argos3-dist/lib/argos3/libargos3plugin_simulator_epuck.so\u001b[0m\u001b[1;32m\"\u001b[0m\n",
      "\u001b[1;32m[INFO] Loaded library \"\u001b[0m\u001b[1;32m/home/jazmin/tuttifrutti/argos3-dist/lib/argos3/libargos3plugin_simulator_eyebot.so\u001b[0m\u001b[1;32m\"\u001b[0m\n",
      "\u001b[1;32m[INFO] Loaded library \"\u001b[0m\u001b[1;32m/home/jazmin/tuttifrutti/argos3-dist/lib/argos3/libargos3plugin_simulator_qtopengl.so\u001b[0m\u001b[1;32m\"\u001b[0m\n",
      "\u001b[1;32m[INFO] Not using threads\u001b[0m\n",
      "\u001b[1;32m[INFO] Using random seed = \u001b[0m\u001b[1;32m1\u001b[0m\n",
      "\u001b[1;32m[INFO] Using simulation clock tick = \u001b[0m\u001b[1;32m0.1\u001b[0m\n",
      "\u001b[1;32m[INFO] Total experiment length in clock ticks = \u001b[0m\u001b[1;32m4000\u001b[0m\n",
      "\u001b[1;32m[INFO] Loaded library \"\u001b[0m\u001b[1;32m/home/jazmin/tuttifrutti/AutoMoDe-tuttifrutti/build/src/libautomode.so\u001b[0m\u001b[1;32m\"\u001b[0m\n",
      "\u001b[1;32m[INFO] Loaded library \"\u001b[0m\u001b[1;32m/home/jazmin/tuttifrutti/experiments-loop-functions/build/loop-functions/moca/libtutti_tmt_loopfunc.so\u001b[0m\u001b[1;32m\"\u001b[0m\n",
      "Finite State Machine description: \n",
      "https://dreampuf.github.io/GraphvizOnline/#digraph finite_state_machine{rankdir=LR;node [shape = doublecircle]; S0 [label=\"GoToColor\\ncle=0\\nclr=2\\nvel=1.2\"; color=blue];node [shape = circle];S1 [label=\"GoAwayColor\\ncle=0\\nclr=1\\nvel=1.2\"; color=blue]S2 [label=\"GoAwayColor\\ncle=4\\nclr=3\\nvel=1.2\"; color=blue]S3 [label=\"Stop\\ncle=3\"; color=blue];node [shape = diamond];C0x0 [label=\"ProbColor\\nl=1\\np=1\"; color=green];C0x1 [label=\"ProbColor\\nl=3\\np=0.15\"; color=green];C0x2 [label=\"WhiteFloor\\np=1\"; color=green];C1x0 [label=\"ProbColor\\nl=2\\np=1\"; color=green];C1x1 [label=\"ProbColor\\nl=3\\np=1\"; color=green];C1x2 [label=\"WhiteFloor\\np=1\"; color=green];C2x0 [label=\"ProbColor\\nl=2\\np=1\"; color=green];C2x1 [label=\"ProbColor\\nl=1\\np=1\"; color=green];C3x0 [label=\"ProbColor\\nl=3\\np=1\"; color=green];S0 -> C0x0;C0x0 -> S1;S0 -> C0x1;C0x1 -> S2;S0 -> C0x2;C0x2 -> S3;S1 -> C1x0;C1x0 -> S0;S1 -> C1x1;C1x1 -> S2;S1 -> C1x2;C1x2 -> S3;S2 -> C2x0;C2x0 -> S0;S2 -> C2x1;C2x1 -> S1;S3 -> C3x0;C3x0 -> S2;}\n",
      "Finite State Machine description: \n",
      "https://dreampuf.github.io/GraphvizOnline/#digraph finite_state_machine{rankdir=LR;node [shape = doublecircle]; S0 [label=\"GoToColor\\ncle=0\\nclr=2\\nvel=1.2\"; color=blue];node [shape = circle];S1 [label=\"GoAwayColor\\ncle=0\\nclr=1\\nvel=1.2\"; color=blue]S2 [label=\"GoAwayColor\\ncle=4\\nclr=3\\nvel=1.2\"; color=blue]S3 [label=\"Stop\\ncle=3\"; color=blue];node [shape = diamond];C0x0 [label=\"ProbColor\\nl=1\\np=1\"; color=green];C0x1 [label=\"ProbColor\\nl=3\\np=0.15\"; color=green];C0x2 [label=\"WhiteFloor\\np=1\"; color=green];C1x0 [label=\"ProbColor\\nl=2\\np=1\"; color=green];C1x1 [label=\"ProbColor\\nl=3\\np=1\"; color=green];C1x2 [label=\"WhiteFloor\\np=1\"; color=green];C2x0 [label=\"ProbColor\\nl=2\\np=1\"; color=green];C2x1 [label=\"ProbColor\\nl=1\\np=1\"; color=green];C3x0 [label=\"ProbColor\\nl=3\\np=1\"; color=green];S0 -> C0x0;C0x0 -> S1;S0 -> C0x1;C0x1 -> S2;S0 -> C0x2;C0x2 -> S3;S1 -> C1x0;C1x0 -> S0;S1 -> C1x1;C1x1 -> S2;S1 -> C1x2;C1x2 -> S3;S2 -> C2x0;C2x0 -> S0;S2 -> C2x1;C2x1 -> S1;S3 -> C3x0;C3x0 -> S2;}\n",
      "Finite State Machine description: \n",
      "https://dreampuf.github.io/GraphvizOnline/#digraph finite_state_machine{rankdir=LR;node [shape = doublecircle]; S0 [label=\"GoToColor\\ncle=0\\nclr=2\\nvel=1.2\"; color=blue];node [shape = circle];S1 [label=\"GoAwayColor\\ncle=0\\nclr=1\\nvel=1.2\"; color=blue]S2 [label=\"GoAwayColor\\ncle=4\\nclr=3\\nvel=1.2\"; color=blue]S3 [label=\"Stop\\ncle=3\"; color=blue];node [shape = diamond];C0x0 [label=\"ProbColor\\nl=1\\np=1\"; color=green];C0x1 [label=\"ProbColor\\nl=3\\np=0.15\"; color=green];C0x2 [label=\"WhiteFloor\\np=1\"; color=green];C1x0 [label=\"ProbColor\\nl=2\\np=1\"; color=green];C1x1 [label=\"ProbColor\\nl=3\\np=1\"; color=green];C1x2 [label=\"WhiteFloor\\np=1\"; color=green];C2x0 [label=\"ProbColor\\nl=2\\np=1\"; color=green];C2x1 [label=\"ProbColor\\nl=1\\np=1\"; color=green];C3x0 [label=\"ProbColor\\nl=3\\np=1\"; color=green];S0 -> C0x0;C0x0 -> S1;S0 -> C0x1;C0x1 -> S2;S0 -> C0x2;C0x2 -> S3;S1 -> C1x0;C1x0 -> S0;S1 -> C1x1;C1x1 -> S2;S1 -> C1x2;C1x2 -> S3;S2 -> C2x0;C2x0 -> S0;S2 -> C2x1;C2x1 -> S1;S3 -> C3x0;C3x0 -> S2;}\n",
      "Finite State Machine description: \n",
      "https://dreampuf.github.io/GraphvizOnline/#digraph finite_state_machine{rankdir=LR;node [shape = doublecircle]; S0 [label=\"GoToColor\\ncle=0\\nclr=2\\nvel=1.2\"; color=blue];node [shape = circle];S1 [label=\"GoAwayColor\\ncle=0\\nclr=1\\nvel=1.2\"; color=blue]S2 [label=\"GoAwayColor\\ncle=4\\nclr=3\\nvel=1.2\"; color=blue]S3 [label=\"Stop\\ncle=3\"; color=blue];node [shape = diamond];C0x0 [label=\"ProbColor\\nl=1\\np=1\"; color=green];C0x1 [label=\"ProbColor\\nl=3\\np=0.15\"; color=green];C0x2 [label=\"WhiteFloor\\np=1\"; color=green];C1x0 [label=\"ProbColor\\nl=2\\np=1\"; color=green];C1x1 [label=\"ProbColor\\nl=3\\np=1\"; color=green];C1x2 [label=\"WhiteFloor\\np=1\"; color=green];C2x0 [label=\"ProbColor\\nl=2\\np=1\"; color=green];C2x1 [label=\"ProbColor\\nl=1\\np=1\"; color=green];C3x0 [label=\"ProbColor\\nl=3\\np=1\"; color=green];S0 -> C0x0;C0x0 -> S1;S0 -> C0x1;C0x1 -> S2;S0 -> C0x2;C0x2 -> S3;S1 -> C1x0;C1x0 -> S0;S1 -> C1x1;C1x1 -> S2;S1 -> C1x2;C1x2 -> S3;S2 -> C2x0;C2x0 -> S0;S2 -> C2x1;C2x1 -> S1;S3 -> C3x0;C3x0 -> S2;}\n",
      "Finite State Machine description: \n",
      "https://dreampuf.github.io/GraphvizOnline/#digraph finite_state_machine{rankdir=LR;node [shape = doublecircle]; S0 [label=\"GoToColor\\ncle=0\\nclr=2\\nvel=1.2\"; color=blue];node [shape = circle];S1 [label=\"GoAwayColor\\ncle=0\\nclr=1\\nvel=1.2\"; color=blue]S2 [label=\"GoAwayColor\\ncle=4\\nclr=3\\nvel=1.2\"; color=blue]S3 [label=\"Stop\\ncle=3\"; color=blue];node [shape = diamond];C0x0 [label=\"ProbColor\\nl=1\\np=1\"; color=green];C0x1 [label=\"ProbColor\\nl=3\\np=0.15\"; color=green];C0x2 [label=\"WhiteFloor\\np=1\"; color=green];C1x0 [label=\"ProbColor\\nl=2\\np=1\"; color=green];C1x1 [label=\"ProbColor\\nl=3\\np=1\"; color=green];C1x2 [label=\"WhiteFloor\\np=1\"; color=green];C2x0 [label=\"ProbColor\\nl=2\\np=1\"; color=green];C2x1 [label=\"ProbColor\\nl=1\\np=1\"; color=green];C3x0 [label=\"ProbColor\\nl=3\\np=1\"; color=green];S0 -> C0x0;C0x0 -> S1;S0 -> C0x1;C0x1 -> S2;S0 -> C0x2;C0x2 -> S3;S1 -> C1x0;C1x0 -> S0;S1 -> C1x1;C1x1 -> S2;S1 -> C1x2;C1x2 -> S3;S2 -> C2x0;C2x0 -> S0;S2 -> C2x1;C2x1 -> S1;S3 -> C3x0;C3x0 -> S2;}\n",
      "Finite State Machine description: \n",
      "https://dreampuf.github.io/GraphvizOnline/#digraph finite_state_machine{rankdir=LR;node [shape = doublecircle]; S0 [label=\"GoToColor\\ncle=0\\nclr=2\\nvel=1.2\"; color=blue];node [shape = circle];S1 [label=\"GoAwayColor\\ncle=0\\nclr=1\\nvel=1.2\"; color=blue]S2 [label=\"GoAwayColor\\ncle=4\\nclr=3\\nvel=1.2\"; color=blue]S3 [label=\"Stop\\ncle=3\"; color=blue];node [shape = diamond];C0x0 [label=\"ProbColor\\nl=1\\np=1\"; color=green];C0x1 [label=\"ProbColor\\nl=3\\np=0.15\"; color=green];C0x2 [label=\"WhiteFloor\\np=1\"; color=green];C1x0 [label=\"ProbColor\\nl=2\\np=1\"; color=green];C1x1 [label=\"ProbColor\\nl=3\\np=1\"; color=green];C1x2 [label=\"WhiteFloor\\np=1\"; color=green];C2x0 [label=\"ProbColor\\nl=2\\np=1\"; color=green];C2x1 [label=\"ProbColor\\nl=1\\np=1\"; color=green];C3x0 [label=\"ProbColor\\nl=3\\np=1\"; color=green];S0 -> C0x0;C0x0 -> S1;S0 -> C0x1;C0x1 -> S2;S0 -> C0x2;C0x2 -> S3;S1 -> C1x0;C1x0 -> S0;S1 -> C1x1;C1x1 -> S2;S1 -> C1x2;C1x2 -> S3;S2 -> C2x0;C2x0 -> S0;S2 -> C2x1;C2x1 -> S1;S3 -> C3x0;C3x0 -> S2;}\n",
      "Finite State Machine description: \n",
      "https://dreampuf.github.io/GraphvizOnline/#digraph finite_state_machine{rankdir=LR;node [shape = doublecircle]; S0 [label=\"GoToColor\\ncle=0\\nclr=2\\nvel=1.2\"; color=blue];node [shape = circle];S1 [label=\"GoAwayColor\\ncle=0\\nclr=1\\nvel=1.2\"; color=blue]S2 [label=\"GoAwayColor\\ncle=4\\nclr=3\\nvel=1.2\"; color=blue]S3 [label=\"Stop\\ncle=3\"; color=blue];node [shape = diamond];C0x0 [label=\"ProbColor\\nl=1\\np=1\"; color=green];C0x1 [label=\"ProbColor\\nl=3\\np=0.15\"; color=green];C0x2 [label=\"WhiteFloor\\np=1\"; color=green];C1x0 [label=\"ProbColor\\nl=2\\np=1\"; color=green];C1x1 [label=\"ProbColor\\nl=3\\np=1\"; color=green];C1x2 [label=\"WhiteFloor\\np=1\"; color=green];C2x0 [label=\"ProbColor\\nl=2\\np=1\"; color=green];C2x1 [label=\"ProbColor\\nl=1\\np=1\"; color=green];C3x0 [label=\"ProbColor\\nl=3\\np=1\"; color=green];S0 -> C0x0;C0x0 -> S1;S0 -> C0x1;C0x1 -> S2;S0 -> C0x2;C0x2 -> S3;S1 -> C1x0;C1x0 -> S0;S1 -> C1x1;C1x1 -> S2;S1 -> C1x2;C1x2 -> S3;S2 -> C2x0;C2x0 -> S0;S2 -> C2x1;C2x1 -> S1;S3 -> C3x0;C3x0 -> S2;}\n",
      "Finite State Machine description: \n",
      "https://dreampuf.github.io/GraphvizOnline/#digraph finite_state_machine{rankdir=LR;node [shape = doublecircle]; S0 [label=\"GoToColor\\ncle=0\\nclr=2\\nvel=1.2\"; color=blue];node [shape = circle];S1 [label=\"GoAwayColor\\ncle=0\\nclr=1\\nvel=1.2\"; color=blue]S2 [label=\"GoAwayColor\\ncle=4\\nclr=3\\nvel=1.2\"; color=blue]S3 [label=\"Stop\\ncle=3\"; color=blue];node [shape = diamond];C0x0 [label=\"ProbColor\\nl=1\\np=1\"; color=green];C0x1 [label=\"ProbColor\\nl=3\\np=0.15\"; color=green];C0x2 [label=\"WhiteFloor\\np=1\"; color=green];C1x0 [label=\"ProbColor\\nl=2\\np=1\"; color=green];C1x1 [label=\"ProbColor\\nl=3\\np=1\"; color=green];C1x2 [label=\"WhiteFloor\\np=1\"; color=green];C2x0 [label=\"ProbColor\\nl=2\\np=1\"; color=green];C2x1 [label=\"ProbColor\\nl=1\\np=1\"; color=green];C3x0 [label=\"ProbColor\\nl=3\\np=1\"; color=green];S0 -> C0x0;C0x0 -> S1;S0 -> C0x1;C0x1 -> S2;S0 -> C0x2;C0x2 -> S3;S1 -> C1x0;C1x0 -> S0;S1 -> C1x1;C1x1 -> S2;S1 -> C1x2;C1x2 -> S3;S2 -> C2x0;C2x0 -> S0;S2 -> C2x1;C2x1 -> S1;S3 -> C3x0;C3x0 -> S2;}\n",
      "Finite State Machine description: \n",
      "https://dreampuf.github.io/GraphvizOnline/#digraph finite_state_machine{rankdir=LR;node [shape = doublecircle]; S0 [label=\"GoToColor\\ncle=0\\nclr=2\\nvel=1.2\"; color=blue];node [shape = circle];S1 [label=\"GoAwayColor\\ncle=0\\nclr=1\\nvel=1.2\"; color=blue]S2 [label=\"GoAwayColor\\ncle=4\\nclr=3\\nvel=1.2\"; color=blue]S3 [label=\"Stop\\ncle=3\"; color=blue];node [shape = diamond];C0x0 [label=\"ProbColor\\nl=1\\np=1\"; color=green];C0x1 [label=\"ProbColor\\nl=3\\np=0.15\"; color=green];C0x2 [label=\"WhiteFloor\\np=1\"; color=green];C1x0 [label=\"ProbColor\\nl=2\\np=1\"; color=green];C1x1 [label=\"ProbColor\\nl=3\\np=1\"; color=green];C1x2 [label=\"WhiteFloor\\np=1\"; color=green];C2x0 [label=\"ProbColor\\nl=2\\np=1\"; color=green];C2x1 [label=\"ProbColor\\nl=1\\np=1\"; color=green];C3x0 [label=\"ProbColor\\nl=3\\np=1\"; color=green];S0 -> C0x0;C0x0 -> S1;S0 -> C0x1;C0x1 -> S2;S0 -> C0x2;C0x2 -> S3;S1 -> C1x0;C1x0 -> S0;S1 -> C1x1;C1x1 -> S2;S1 -> C1x2;C1x2 -> S3;S2 -> C2x0;C2x0 -> S0;S2 -> C2x1;C2x1 -> S1;S3 -> C3x0;C3x0 -> S2;}\n",
      "Finite State Machine description: \n",
      "https://dreampuf.github.io/GraphvizOnline/#digraph finite_state_machine{rankdir=LR;node [shape = doublecircle]; S0 [label=\"GoToColor\\ncle=0\\nclr=2\\nvel=1.2\"; color=blue];node [shape = circle];S1 [label=\"GoAwayColor\\ncle=0\\nclr=1\\nvel=1.2\"; color=blue]S2 [label=\"GoAwayColor\\ncle=4\\nclr=3\\nvel=1.2\"; color=blue]S3 [label=\"Stop\\ncle=3\"; color=blue];node [shape = diamond];C0x0 [label=\"ProbColor\\nl=1\\np=1\"; color=green];C0x1 [label=\"ProbColor\\nl=3\\np=0.15\"; color=green];C0x2 [label=\"WhiteFloor\\np=1\"; color=green];C1x0 [label=\"ProbColor\\nl=2\\np=1\"; color=green];C1x1 [label=\"ProbColor\\nl=3\\np=1\"; color=green];C1x2 [label=\"WhiteFloor\\np=1\"; color=green];C2x0 [label=\"ProbColor\\nl=2\\np=1\"; color=green];C2x1 [label=\"ProbColor\\nl=1\\np=1\"; color=green];C3x0 [label=\"ProbColor\\nl=3\\np=1\"; color=green];S0 -> C0x0;C0x0 -> S1;S0 -> C0x1;C0x1 -> S2;S0 -> C0x2;C0x2 -> S3;S1 -> C1x0;C1x0 -> S0;S1 -> C1x1;C1x1 -> S2;S1 -> C1x2;C1x2 -> S3;S2 -> C2x0;C2x0 -> S0;S2 -> C2x1;C2x1 -> S1;S3 -> C3x0;C3x0 -> S2;}\n",
      "Finite State Machine description: \n",
      "https://dreampuf.github.io/GraphvizOnline/#digraph finite_state_machine{rankdir=LR;node [shape = doublecircle]; S0 [label=\"GoToColor\\ncle=0\\nclr=2\\nvel=1.2\"; color=blue];node [shape = circle];S1 [label=\"GoAwayColor\\ncle=0\\nclr=1\\nvel=1.2\"; color=blue]S2 [label=\"GoAwayColor\\ncle=4\\nclr=3\\nvel=1.2\"; color=blue]S3 [label=\"Stop\\ncle=3\"; color=blue];node [shape = diamond];C0x0 [label=\"ProbColor\\nl=1\\np=1\"; color=green];C0x1 [label=\"ProbColor\\nl=3\\np=0.15\"; color=green];C0x2 [label=\"WhiteFloor\\np=1\"; color=green];C1x0 [label=\"ProbColor\\nl=2\\np=1\"; color=green];C1x1 [label=\"ProbColor\\nl=3\\np=1\"; color=green];C1x2 [label=\"WhiteFloor\\np=1\"; color=green];C2x0 [label=\"ProbColor\\nl=2\\np=1\"; color=green];C2x1 [label=\"ProbColor\\nl=1\\np=1\"; color=green];C3x0 [label=\"ProbColor\\nl=3\\np=1\"; color=green];S0 -> C0x0;C0x0 -> S1;S0 -> C0x1;C0x1 -> S2;S0 -> C0x2;C0x2 -> S3;S1 -> C1x0;C1x0 -> S0;S1 -> C1x1;C1x1 -> S2;S1 -> C1x2;C1x2 -> S3;S2 -> C2x0;C2x0 -> S0;S2 -> C2x1;C2x1 -> S1;S3 -> C3x0;C3x0 -> S2;}\n",
      "Finite State Machine description: \n",
      "https://dreampuf.github.io/GraphvizOnline/#digraph finite_state_machine{rankdir=LR;node [shape = doublecircle]; S0 [label=\"GoToColor\\ncle=0\\nclr=2\\nvel=1.2\"; color=blue];node [shape = circle];S1 [label=\"GoAwayColor\\ncle=0\\nclr=1\\nvel=1.2\"; color=blue]S2 [label=\"GoAwayColor\\ncle=4\\nclr=3\\nvel=1.2\"; color=blue]S3 [label=\"Stop\\ncle=3\"; color=blue];node [shape = diamond];C0x0 [label=\"ProbColor\\nl=1\\np=1\"; color=green];C0x1 [label=\"ProbColor\\nl=3\\np=0.15\"; color=green];C0x2 [label=\"WhiteFloor\\np=1\"; color=green];C1x0 [label=\"ProbColor\\nl=2\\np=1\"; color=green];C1x1 [label=\"ProbColor\\nl=3\\np=1\"; color=green];C1x2 [label=\"WhiteFloor\\np=1\"; color=green];C2x0 [label=\"ProbColor\\nl=2\\np=1\"; color=green];C2x1 [label=\"ProbColor\\nl=1\\np=1\"; color=green];C3x0 [label=\"ProbColor\\nl=3\\np=1\"; color=green];S0 -> C0x0;C0x0 -> S1;S0 -> C0x1;C0x1 -> S2;S0 -> C0x2;C0x2 -> S3;S1 -> C1x0;C1x0 -> S0;S1 -> C1x1;C1x1 -> S2;S1 -> C1x2;C1x2 -> S3;S2 -> C2x0;C2x0 -> S0;S2 -> C2x1;C2x1 -> S1;S3 -> C3x0;C3x0 -> S2;}\n",
      "Finite State Machine description: \n",
      "https://dreampuf.github.io/GraphvizOnline/#digraph finite_state_machine{rankdir=LR;node [shape = doublecircle]; S0 [label=\"GoToColor\\ncle=0\\nclr=2\\nvel=1.2\"; color=blue];node [shape = circle];S1 [label=\"GoAwayColor\\ncle=0\\nclr=1\\nvel=1.2\"; color=blue]S2 [label=\"GoAwayColor\\ncle=4\\nclr=3\\nvel=1.2\"; color=blue]S3 [label=\"Stop\\ncle=3\"; color=blue];node [shape = diamond];C0x0 [label=\"ProbColor\\nl=1\\np=1\"; color=green];C0x1 [label=\"ProbColor\\nl=3\\np=0.15\"; color=green];C0x2 [label=\"WhiteFloor\\np=1\"; color=green];C1x0 [label=\"ProbColor\\nl=2\\np=1\"; color=green];C1x1 [label=\"ProbColor\\nl=3\\np=1\"; color=green];C1x2 [label=\"WhiteFloor\\np=1\"; color=green];C2x0 [label=\"ProbColor\\nl=2\\np=1\"; color=green];C2x1 [label=\"ProbColor\\nl=1\\np=1\"; color=green];C3x0 [label=\"ProbColor\\nl=3\\np=1\"; color=green];S0 -> C0x0;C0x0 -> S1;S0 -> C0x1;C0x1 -> S2;S0 -> C0x2;C0x2 -> S3;S1 -> C1x0;C1x0 -> S0;S1 -> C1x1;C1x1 -> S2;S1 -> C1x2;C1x2 -> S3;S2 -> C2x0;C2x0 -> S0;S2 -> C2x1;C2x1 -> S1;S3 -> C3x0;C3x0 -> S2;}\n",
      "Finite State Machine description: \n",
      "https://dreampuf.github.io/GraphvizOnline/#digraph finite_state_machine{rankdir=LR;node [shape = doublecircle]; S0 [label=\"GoToColor\\ncle=0\\nclr=2\\nvel=1.2\"; color=blue];node [shape = circle];S1 [label=\"GoAwayColor\\ncle=0\\nclr=1\\nvel=1.2\"; color=blue]S2 [label=\"GoAwayColor\\ncle=4\\nclr=3\\nvel=1.2\"; color=blue]S3 [label=\"Stop\\ncle=3\"; color=blue];node [shape = diamond];C0x0 [label=\"ProbColor\\nl=1\\np=1\"; color=green];C0x1 [label=\"ProbColor\\nl=3\\np=0.15\"; color=green];C0x2 [label=\"WhiteFloor\\np=1\"; color=green];C1x0 [label=\"ProbColor\\nl=2\\np=1\"; color=green];C1x1 [label=\"ProbColor\\nl=3\\np=1\"; color=green];C1x2 [label=\"WhiteFloor\\np=1\"; color=green];C2x0 [label=\"ProbColor\\nl=2\\np=1\"; color=green];C2x1 [label=\"ProbColor\\nl=1\\np=1\"; color=green];C3x0 [label=\"ProbColor\\nl=3\\np=1\"; color=green];S0 -> C0x0;C0x0 -> S1;S0 -> C0x1;C0x1 -> S2;S0 -> C0x2;C0x2 -> S3;S1 -> C1x0;C1x0 -> S0;S1 -> C1x1;C1x1 -> S2;S1 -> C1x2;C1x2 -> S3;S2 -> C2x0;C2x0 -> S0;S2 -> C2x1;C2x1 -> S1;S3 -> C3x0;C3x0 -> S2;}\n",
      "Finite State Machine description: \n",
      "https://dreampuf.github.io/GraphvizOnline/#digraph finite_state_machine{rankdir=LR;node [shape = doublecircle]; S0 [label=\"GoToColor\\ncle=0\\nclr=2\\nvel=1.2\"; color=blue];node [shape = circle];S1 [label=\"GoAwayColor\\ncle=0\\nclr=1\\nvel=1.2\"; color=blue]S2 [label=\"GoAwayColor\\ncle=4\\nclr=3\\nvel=1.2\"; color=blue]S3 [label=\"Stop\\ncle=3\"; color=blue];node [shape = diamond];C0x0 [label=\"ProbColor\\nl=1\\np=1\"; color=green];C0x1 [label=\"ProbColor\\nl=3\\np=0.15\"; color=green];C0x2 [label=\"WhiteFloor\\np=1\"; color=green];C1x0 [label=\"ProbColor\\nl=2\\np=1\"; color=green];C1x1 [label=\"ProbColor\\nl=3\\np=1\"; color=green];C1x2 [label=\"WhiteFloor\\np=1\"; color=green];C2x0 [label=\"ProbColor\\nl=2\\np=1\"; color=green];C2x1 [label=\"ProbColor\\nl=1\\np=1\"; color=green];C3x0 [label=\"ProbColor\\nl=3\\np=1\"; color=green];S0 -> C0x0;C0x0 -> S1;S0 -> C0x1;C0x1 -> S2;S0 -> C0x2;C0x2 -> S3;S1 -> C1x0;C1x0 -> S0;S1 -> C1x1;C1x1 -> S2;S1 -> C1x2;C1x2 -> S3;S2 -> C2x0;C2x0 -> S0;S2 -> C2x1;C2x1 -> S1;S3 -> C3x0;C3x0 -> S2;}\n",
      "Finite State Machine description: \n",
      "https://dreampuf.github.io/GraphvizOnline/#digraph finite_state_machine{rankdir=LR;node [shape = doublecircle]; S0 [label=\"GoToColor\\ncle=0\\nclr=2\\nvel=1.2\"; color=blue];node [shape = circle];S1 [label=\"GoAwayColor\\ncle=0\\nclr=1\\nvel=1.2\"; color=blue]S2 [label=\"GoAwayColor\\ncle=4\\nclr=3\\nvel=1.2\"; color=blue]S3 [label=\"Stop\\ncle=3\"; color=blue];node [shape = diamond];C0x0 [label=\"ProbColor\\nl=1\\np=1\"; color=green];C0x1 [label=\"ProbColor\\nl=3\\np=0.15\"; color=green];C0x2 [label=\"WhiteFloor\\np=1\"; color=green];C1x0 [label=\"ProbColor\\nl=2\\np=1\"; color=green];C1x1 [label=\"ProbColor\\nl=3\\np=1\"; color=green];C1x2 [label=\"WhiteFloor\\np=1\"; color=green];C2x0 [label=\"ProbColor\\nl=2\\np=1\"; color=green];C2x1 [label=\"ProbColor\\nl=1\\np=1\"; color=green];C3x0 [label=\"ProbColor\\nl=3\\np=1\"; color=green];S0 -> C0x0;C0x0 -> S1;S0 -> C0x1;C0x1 -> S2;S0 -> C0x2;C0x2 -> S3;S1 -> C1x0;C1x0 -> S0;S1 -> C1x1;C1x1 -> S2;S1 -> C1x2;C1x2 -> S3;S2 -> C2x0;C2x0 -> S0;S2 -> C2x1;C2x1 -> S1;S3 -> C3x0;C3x0 -> S2;}\n",
      "Finite State Machine description: \n",
      "https://dreampuf.github.io/GraphvizOnline/#digraph finite_state_machine{rankdir=LR;node [shape = doublecircle]; S0 [label=\"GoToColor\\ncle=0\\nclr=2\\nvel=1.2\"; color=blue];node [shape = circle];S1 [label=\"GoAwayColor\\ncle=0\\nclr=1\\nvel=1.2\"; color=blue]S2 [label=\"GoAwayColor\\ncle=4\\nclr=3\\nvel=1.2\"; color=blue]S3 [label=\"Stop\\ncle=3\"; color=blue];node [shape = diamond];C0x0 [label=\"ProbColor\\nl=1\\np=1\"; color=green];C0x1 [label=\"ProbColor\\nl=3\\np=0.15\"; color=green];C0x2 [label=\"WhiteFloor\\np=1\"; color=green];C1x0 [label=\"ProbColor\\nl=2\\np=1\"; color=green];C1x1 [label=\"ProbColor\\nl=3\\np=1\"; color=green];C1x2 [label=\"WhiteFloor\\np=1\"; color=green];C2x0 [label=\"ProbColor\\nl=2\\np=1\"; color=green];C2x1 [label=\"ProbColor\\nl=1\\np=1\"; color=green];C3x0 [label=\"ProbColor\\nl=3\\np=1\"; color=green];S0 -> C0x0;C0x0 -> S1;S0 -> C0x1;C0x1 -> S2;S0 -> C0x2;C0x2 -> S3;S1 -> C1x0;C1x0 -> S0;S1 -> C1x1;C1x1 -> S2;S1 -> C1x2;C1x2 -> S3;S2 -> C2x0;C2x0 -> S0;S2 -> C2x1;C2x1 -> S1;S3 -> C3x0;C3x0 -> S2;}\n",
      "Finite State Machine description: \n",
      "https://dreampuf.github.io/GraphvizOnline/#digraph finite_state_machine{rankdir=LR;node [shape = doublecircle]; S0 [label=\"GoToColor\\ncle=0\\nclr=2\\nvel=1.2\"; color=blue];node [shape = circle];S1 [label=\"GoAwayColor\\ncle=0\\nclr=1\\nvel=1.2\"; color=blue]S2 [label=\"GoAwayColor\\ncle=4\\nclr=3\\nvel=1.2\"; color=blue]S3 [label=\"Stop\\ncle=3\"; color=blue];node [shape = diamond];C0x0 [label=\"ProbColor\\nl=1\\np=1\"; color=green];C0x1 [label=\"ProbColor\\nl=3\\np=0.15\"; color=green];C0x2 [label=\"WhiteFloor\\np=1\"; color=green];C1x0 [label=\"ProbColor\\nl=2\\np=1\"; color=green];C1x1 [label=\"ProbColor\\nl=3\\np=1\"; color=green];C1x2 [label=\"WhiteFloor\\np=1\"; color=green];C2x0 [label=\"ProbColor\\nl=2\\np=1\"; color=green];C2x1 [label=\"ProbColor\\nl=1\\np=1\"; color=green];C3x0 [label=\"ProbColor\\nl=3\\np=1\"; color=green];S0 -> C0x0;C0x0 -> S1;S0 -> C0x1;C0x1 -> S2;S0 -> C0x2;C0x2 -> S3;S1 -> C1x0;C1x0 -> S0;S1 -> C1x1;C1x1 -> S2;S1 -> C1x2;C1x2 -> S3;S2 -> C2x0;C2x0 -> S0;S2 -> C2x1;C2x1 -> S1;S3 -> C3x0;C3x0 -> S2;}\n",
      "Finite State Machine description: \n",
      "https://dreampuf.github.io/GraphvizOnline/#digraph finite_state_machine{rankdir=LR;node [shape = doublecircle]; S0 [label=\"GoToColor\\ncle=0\\nclr=2\\nvel=1.2\"; color=blue];node [shape = circle];S1 [label=\"GoAwayColor\\ncle=0\\nclr=1\\nvel=1.2\"; color=blue]S2 [label=\"GoAwayColor\\ncle=4\\nclr=3\\nvel=1.2\"; color=blue]S3 [label=\"Stop\\ncle=3\"; color=blue];node [shape = diamond];C0x0 [label=\"ProbColor\\nl=1\\np=1\"; color=green];C0x1 [label=\"ProbColor\\nl=3\\np=0.15\"; color=green];C0x2 [label=\"WhiteFloor\\np=1\"; color=green];C1x0 [label=\"ProbColor\\nl=2\\np=1\"; color=green];C1x1 [label=\"ProbColor\\nl=3\\np=1\"; color=green];C1x2 [label=\"WhiteFloor\\np=1\"; color=green];C2x0 [label=\"ProbColor\\nl=2\\np=1\"; color=green];C2x1 [label=\"ProbColor\\nl=1\\np=1\"; color=green];C3x0 [label=\"ProbColor\\nl=3\\np=1\"; color=green];S0 -> C0x0;C0x0 -> S1;S0 -> C0x1;C0x1 -> S2;S0 -> C0x2;C0x2 -> S3;S1 -> C1x0;C1x0 -> S0;S1 -> C1x1;C1x1 -> S2;S1 -> C1x2;C1x2 -> S3;S2 -> C2x0;C2x0 -> S0;S2 -> C2x1;C2x1 -> S1;S3 -> C3x0;C3x0 -> S2;}\n",
      "Finite State Machine description: \n",
      "https://dreampuf.github.io/GraphvizOnline/#digraph finite_state_machine{rankdir=LR;node [shape = doublecircle]; S0 [label=\"GoToColor\\ncle=0\\nclr=2\\nvel=1.2\"; color=blue];node [shape = circle];S1 [label=\"GoAwayColor\\ncle=0\\nclr=1\\nvel=1.2\"; color=blue]S2 [label=\"GoAwayColor\\ncle=4\\nclr=3\\nvel=1.2\"; color=blue]S3 [label=\"Stop\\ncle=3\"; color=blue];node [shape = diamond];C0x0 [label=\"ProbColor\\nl=1\\np=1\"; color=green];C0x1 [label=\"ProbColor\\nl=3\\np=0.15\"; color=green];C0x2 [label=\"WhiteFloor\\np=1\"; color=green];C1x0 [label=\"ProbColor\\nl=2\\np=1\"; color=green];C1x1 [label=\"ProbColor\\nl=3\\np=1\"; color=green];C1x2 [label=\"WhiteFloor\\np=1\"; color=green];C2x0 [label=\"ProbColor\\nl=2\\np=1\"; color=green];C2x1 [label=\"ProbColor\\nl=1\\np=1\"; color=green];C3x0 [label=\"ProbColor\\nl=3\\np=1\"; color=green];S0 -> C0x0;C0x0 -> S1;S0 -> C0x1;C0x1 -> S2;S0 -> C0x2;C0x2 -> S3;S1 -> C1x0;C1x0 -> S0;S1 -> C1x1;C1x1 -> S2;S1 -> C1x2;C1x2 -> S3;S2 -> C2x0;C2x0 -> S0;S2 -> C2x1;C2x1 -> S1;S3 -> C3x0;C3x0 -> S2;}\n",
      "Finite State Machine description: \n",
      "https://dreampuf.github.io/GraphvizOnline/#digraph finite_state_machine{rankdir=LR;node [shape = doublecircle]; S0 [label=\"GoToColor\\ncle=0\\nclr=2\\nvel=1.2\"; color=blue];node [shape = circle];S1 [label=\"GoAwayColor\\ncle=0\\nclr=1\\nvel=1.2\"; color=blue]S2 [label=\"GoAwayColor\\ncle=4\\nclr=3\\nvel=1.2\"; color=blue]S3 [label=\"Stop\\ncle=3\"; color=blue];node [shape = diamond];C0x0 [label=\"ProbColor\\nl=1\\np=1\"; color=green];C0x1 [label=\"ProbColor\\nl=3\\np=0.15\"; color=green];C0x2 [label=\"WhiteFloor\\np=1\"; color=green];C1x0 [label=\"ProbColor\\nl=2\\np=1\"; color=green];C1x1 [label=\"ProbColor\\nl=3\\np=1\"; color=green];C1x2 [label=\"WhiteFloor\\np=1\"; color=green];C2x0 [label=\"ProbColor\\nl=2\\np=1\"; color=green];C2x1 [label=\"ProbColor\\nl=1\\np=1\"; color=green];C3x0 [label=\"ProbColor\\nl=3\\np=1\"; color=green];S0 -> C0x0;C0x0 -> S1;S0 -> C0x1;C0x1 -> S2;S0 -> C0x2;C0x2 -> S3;S1 -> C1x0;C1x0 -> S0;S1 -> C1x1;C1x1 -> S2;S1 -> C1x2;C1x2 -> S3;S2 -> C2x0;C2x0 -> S0;S2 -> C2x1;C2x1 -> S1;S3 -> C3x0;C3x0 -> S2;}\n",
      "Finite State Machine description: \n",
      "https://dreampuf.github.io/GraphvizOnline/#digraph finite_state_machine{rankdir=LR;node [shape = doublecircle]; S0 [label=\"GoToColor\\ncle=0\\nclr=2\\nvel=1.2\"; color=blue];node [shape = circle];S1 [label=\"GoAwayColor\\ncle=0\\nclr=1\\nvel=1.2\"; color=blue]S2 [label=\"GoAwayColor\\ncle=4\\nclr=3\\nvel=1.2\"; color=blue]S3 [label=\"Stop\\ncle=3\"; color=blue];node [shape = diamond];C0x0 [label=\"ProbColor\\nl=1\\np=1\"; color=green];C0x1 [label=\"ProbColor\\nl=3\\np=0.15\"; color=green];C0x2 [label=\"WhiteFloor\\np=1\"; color=green];C1x0 [label=\"ProbColor\\nl=2\\np=1\"; color=green];C1x1 [label=\"ProbColor\\nl=3\\np=1\"; color=green];C1x2 [label=\"WhiteFloor\\np=1\"; color=green];C2x0 [label=\"ProbColor\\nl=2\\np=1\"; color=green];C2x1 [label=\"ProbColor\\nl=1\\np=1\"; color=green];C3x0 [label=\"ProbColor\\nl=3\\np=1\"; color=green];S0 -> C0x0;C0x0 -> S1;S0 -> C0x1;C0x1 -> S2;S0 -> C0x2;C0x2 -> S3;S1 -> C1x0;C1x0 -> S0;S1 -> C1x1;C1x1 -> S2;S1 -> C1x2;C1x2 -> S3;S2 -> C2x0;C2x0 -> S0;S2 -> C2x1;C2x1 -> S1;S3 -> C3x0;C3x0 -> S2;}\n",
      "folder:/home/jazmin/tuttifrutti/log/Tesis/EventLogs/\n",
      "\u001b[1;32m[INFO] The physics engine \"\u001b[0m\u001b[1;32mdyn2d\u001b[0m\u001b[1;32m\" will perform \u001b[0m\u001b[1;32m10\u001b[0m\u001b[1;32m iterations per tick (dt = \u001b[0m\u001b[1;32m0.01\u001b[0m\u001b[1;32m sec)\u001b[0m\n",
      "\u001b[1;31mProblem with Attributes in node params\u001b[0m\n",
      "\u001b[1;31m[WARNING] The given camera position is ambiguous, \u001b[0m\u001b[1;31mand a standard attitude has been used to calculate it. \u001b[0m\u001b[1;31mConsider specifying the \"up\" vector in the .argos file \u001b[0m\u001b[1;31mfor more precise placement.\u001b[0m\n",
      "\u001b[0m\u001b[0mSimulación completada.\n"
     ]
    }
   ],
   "source": [
    "if mision_activities==\"manual\":    \n",
    "    activities(\"probability=1;\")\n",
    "    !python /home/jazmin/tuttifrutti/log/Tesis/Codigos/seed_change_multiple_times.py \"/home/jazmin/tuttifrutti/log/Tesis/EventLogs/\" --repetition $repetition_numer  --time $timer"
   ]
  },
  {
   "cell_type": "code",
   "execution_count": null,
   "metadata": {},
   "outputs": [],
   "source": [
    "activities(fixed_prob)\n",
    "!python /home/jazmin/tuttifrutti/log/Tesis/Codigos/seed_change_multiple_times.py \"/home/jazmin/tuttifrutti/log/Tesis/EventLogs_fail/\" --repetition $repetition_numer  --time $timer\n"
   ]
  },
  {
   "cell_type": "markdown",
   "metadata": {},
   "source": [
    "Store all information for the mision in one folder"
   ]
  },
  {
   "cell_type": "markdown",
   "metadata": {},
   "source": [
    "1. Create new folder"
   ]
  },
  {
   "cell_type": "code",
   "execution_count": null,
   "metadata": {},
   "outputs": [],
   "source": [
    "# Directory where you want to search for folders\n",
    "directory = \"/home/jazmin/tuttifrutti/log/Tesis/\"\n",
    "\n",
    "# Prefix that should be in the folder names\n",
    "prefix = \"example\"\n",
    "\n",
    "# Find all folders with the \"example\" prefix in the name\n",
    "folders = [name for name in os.listdir(directory) if prefix in name]\n",
    "\n",
    "# Find the highest number in the folder names\n",
    "numbers = [int(name.replace(prefix, \"\")) for name in folders]\n",
    "highest_number = max(numbers) if numbers else 0\n",
    "\n",
    "# Create the name for the new folder\n",
    "new_name = f\"{prefix}{highest_number + 1}\"\n",
    "\n",
    "# Full path of the new folder\n",
    "new_folder = os.path.join(directory, new_name)"
   ]
  },
  {
   "cell_type": "markdown",
   "metadata": {},
   "source": [
    "Code to copy folder into the new folder"
   ]
  },
  {
   "cell_type": "code",
   "execution_count": null,
   "metadata": {},
   "outputs": [],
   "source": [
    "def copy_folder(source, destination):\n",
    "    try:\n",
    "        # Create the new folder if it doesn't exist\n",
    "        if not os.path.exists(destination):\n",
    "            os.mkdir(destination)\n",
    "        # Use the `copytree` function from shutil to copy the folder and its contents\n",
    "        shutil.copytree(source, os.path.join(destination, os.path.basename(source)))\n",
    "        print(f\"Folder '{os.path.basename(source)}' copied to {destination}\")\n",
    "    except Exception as e:\n",
    "        print(f\"Unable to copy the folder: {e}\")"
   ]
  },
  {
   "cell_type": "markdown",
   "metadata": {},
   "source": [
    "Code to copy a file into a new folder"
   ]
  },
  {
   "cell_type": "code",
   "execution_count": null,
   "metadata": {},
   "outputs": [],
   "source": [
    "def copy_file(source, destination):\n",
    "    try:\n",
    "        # Use the `copy` function from shutil to copy the file\n",
    "        shutil.copy(source, destination)\n",
    "        print(f\"File copied from {source} to {destination}\")\n",
    "    except Exception as e:\n",
    "        print(f\"Unable to copy the file: {e}\")\n"
   ]
  },
  {
   "cell_type": "markdown",
   "metadata": {},
   "source": [
    "Files to copy"
   ]
  },
  {
   "cell_type": "code",
   "execution_count": null,
   "metadata": {},
   "outputs": [],
   "source": [
    "event_log = \"/home/jazmin/tuttifrutti/log/Tesis/EventLogs\"\n",
    "event_log_fail =\"/home/jazmin/tuttifrutti/log/Tesis/EventLogs_fail\"\n",
    "variables=\"/home/jazmin/tuttifrutti/log/Tesis/mision_variables/activities.txt\"\n",
    "\n",
    "copy_folder(event_log, new_folder)\n",
    "copy_folder(event_log_fail, new_folder)\n",
    "copy_file(variables, new_folder)"
   ]
  },
  {
   "cell_type": "markdown",
   "metadata": {},
   "source": [
    "Next line is executed when option random is used, change the folder path to your needs"
   ]
  },
  {
   "cell_type": "code",
   "execution_count": null,
   "metadata": {},
   "outputs": [],
   "source": [
    "if mision_activities==\"random\":\n",
    "    activities(\"probability=1;\")"
   ]
  },
  {
   "cell_type": "markdown",
   "metadata": {},
   "source": [
    "Rest of the time, executed from here"
   ]
  },
  {
   "cell_type": "code",
   "execution_count": null,
   "metadata": {},
   "outputs": [],
   "source": [
    "import matplotlib.pyplot as plot\n",
    "import pandas as pd\n",
    "import numpy as np\n",
    "import glob\n",
    "import os\n",
    "import seaborn as sns\n",
    "from datetime import date\n",
    "from IPython.display import Markdown, display\n",
    "import matplotlib.pyplot as plt\n",
    "import pm4py\n",
    "from pm4py.objects.conversion.log import converter as log_converter\n",
    "from pm4py.visualization.petri_net import visualizer as pn_visualizer\n",
    "from pm4py.objects.petri_net.utils.decomposition import decompose\n",
    "from pm4py.objects.petri_net.utils import reachability_graph\n",
    "from pm4py.visualization.transition_system import visualizer as ts_visualizer"
   ]
  },
  {
   "cell_type": "markdown",
   "metadata": {},
   "source": [
    "Create one dataframe with the info from all EventLogs"
   ]
  },
  {
   "cell_type": "code",
   "execution_count": null,
   "metadata": {},
   "outputs": [],
   "source": [
    "\n",
    "def concatenate(folder):\n",
    "    filenames = glob.glob(folder + \"/*.csv\")\n",
    "    dfs = []\n",
    "    model=0\n",
    "    for filename in filenames:\n",
    "        log = pd.read_csv(filename, sep=',')\n",
    "        case_id=[]\n",
    "        case_id += len(log.mision) * [\"mision \"+str(model)]\n",
    "        log['mision']=case_id\n",
    "        model+=1\n",
    "        dfs.append(log)\n",
    "        big_frame = pd.concat(dfs, ignore_index=True)\n",
    "        if model==len(filenames):\n",
    "            big_frame.to_csv('/home/jazmin/tuttifrutti/log/Tesis/LogFinal/final_log_2.csv', sep=',', index=False)\n"
   ]
  },
  {
   "cell_type": "markdown",
   "metadata": {},
   "source": [
    "Set the names for the colums in both dataframes"
   ]
  },
  {
   "cell_type": "code",
   "execution_count": null,
   "metadata": {},
   "outputs": [],
   "source": [
    "fn = '/home/jazmin/tuttifrutti/log/Tesis/LogFinal/final_log_2.csv'\n",
    "concatenate(new_folder+\"/EventLogs\")\n",
    "events = pd.read_csv(fn)\n",
    "events.columns = ['mision', 'action', 'datetime', 'resource', 'random_seed']\n",
    "events['datetime'] = pd.to_datetime(events['datetime'])\n",
    "events\n"
   ]
  },
  {
   "cell_type": "code",
   "execution_count": null,
   "metadata": {},
   "outputs": [],
   "source": [
    "\n",
    "concatenate(new_folder+\"/EventLogs_fail\")\n",
    "events_fail = pd.read_csv(fn)\n",
    "events_fail.columns = ['mision', 'action', 'datetime', 'resource', 'random_seed']\n",
    "events_fail['datetime'] = pd.to_datetime(events_fail['datetime'])\n",
    "events_fail"
   ]
  },
  {
   "cell_type": "markdown",
   "metadata": {},
   "source": [
    "To use pm4py first we convert to an EventLog"
   ]
  },
  {
   "cell_type": "code",
   "execution_count": null,
   "metadata": {},
   "outputs": [],
   "source": [
    "events.rename(columns={'datetime': 'time:timestamp', 'mision': 'case:concept:name', 'action': 'concept:name', 'random_seed': 'org:resource'}, inplace=True)\n",
    "events_fail.rename(columns={'datetime': 'time:timestamp', 'mision': 'case:concept:name', 'action': 'concept:name', 'random_seed': 'org:resource'}, inplace=True)\n",
    "\n",
    "## Convert to log format the events without fail probability\n",
    "log_inicial = log_converter.apply(events)\n",
    "## Convert to log format the events with fail probability\n",
    "log_fail = log_converter.apply(events_fail)\n"
   ]
  },
  {
   "cell_type": "markdown",
   "metadata": {},
   "source": [
    "For the ideal log, we don't need much information, just to make sure is perfect"
   ]
  },
  {
   "cell_type": "markdown",
   "metadata": {},
   "source": [
    "We check for the variants"
   ]
  },
  {
   "cell_type": "code",
   "execution_count": null,
   "metadata": {},
   "outputs": [],
   "source": [
    "variants = pm4py.get_variants(log_inicial)\n",
    "len(variants)\n",
    "#variants"
   ]
  },
  {
   "cell_type": "markdown",
   "metadata": {},
   "source": [
    "There should be as many as number of (concurrent activities x number of actions on the activities) the mision has, if there's more, substrac them."
   ]
  },
  {
   "cell_type": "code",
   "execution_count": null,
   "metadata": {},
   "outputs": [],
   "source": [
    "k=3\n",
    "log = pm4py.filter_variants_top_k(log_inicial, k)\n"
   ]
  },
  {
   "cell_type": "code",
   "execution_count": null,
   "metadata": {},
   "outputs": [],
   "source": [
    "log_no_timeout = pm4py.filter_activities_rework(log_inicial, 'time_out', 1)\n"
   ]
  },
  {
   "cell_type": "markdown",
   "metadata": {},
   "source": [
    "We can get the model using different algorithims, we'll use 4: alpha miner, inductive miner, heuristic miner, lip miner"
   ]
  },
  {
   "cell_type": "markdown",
   "metadata": {},
   "source": [
    "Alpha miner"
   ]
  },
  {
   "cell_type": "code",
   "execution_count": null,
   "metadata": {},
   "outputs": [],
   "source": [
    "net, im, fm = pm4py.discover_petri_net_alpha(log_no_timeout)\n",
    "\n",
    "parameters = {pn_visualizer.Variants.FREQUENCY.value.Parameters.FORMAT: \"png\"}\n",
    "gviz = pn_visualizer.apply(net, im, fm , parameters=parameters, variant=pn_visualizer.Variants.FREQUENCY, log=log_no_timeout)\n",
    "pn_visualizer.save(gviz, new_folder+\"/Alpha_miner_frequency_IDEAL.png\")\n",
    "#pm4py.view_petri_net(net, im, fm)"
   ]
  },
  {
   "cell_type": "markdown",
   "metadata": {},
   "source": [
    "Heuristic miner"
   ]
  },
  {
   "cell_type": "code",
   "execution_count": null,
   "metadata": {},
   "outputs": [],
   "source": [
    "#Petri net\n",
    "net, im, fm = pm4py.discover_petri_net_heuristics(log_no_timeout, dependency_threshold=0.99)\n",
    "parameters = {pn_visualizer.Variants.FREQUENCY.value.Parameters.FORMAT: \"png\"}\n",
    "gviz = pn_visualizer.apply(net, im, fm , parameters=parameters, variant=pn_visualizer.Variants.FREQUENCY, log=log_no_timeout)\n",
    "pn_visualizer.save(gviz, new_folder+\"/Heuristic_miner_frequency_IDEAL.png\")\n",
    "#pm4py.view_petri_net(net, im, fm)"
   ]
  },
  {
   "cell_type": "markdown",
   "metadata": {},
   "source": [
    "ILP miner"
   ]
  },
  {
   "cell_type": "code",
   "execution_count": null,
   "metadata": {},
   "outputs": [],
   "source": [
    "net, im, fm = pm4py.discovery.discover_petri_net_ilp(log_inicial)\n",
    "parameters = {pn_visualizer.Variants.FREQUENCY.value.Parameters.FORMAT: \"png\"}\n",
    "gviz = pn_visualizer.apply(net, im, fm, parameters=parameters, variant=pn_visualizer.Variants.FREQUENCY, log=log_inicial)\n",
    "pn_visualizer.save(gviz, new_folder+\"/ILP_miner_frequency_IDEAL.png\")\n",
    "#pm4py.view_petri_net(net, im, fm)"
   ]
  },
  {
   "cell_type": "markdown",
   "metadata": {},
   "source": [
    "Inductivo miner\n",
    "\n",
    "We'll use inductive miner at the end beause we'll use it for conformance checking and like this variables as net, initial_marking, final_marking are saved"
   ]
  },
  {
   "cell_type": "code",
   "execution_count": null,
   "metadata": {},
   "outputs": [],
   "source": [
    "net, initial_marking, final_marking = pm4py.discover_petri_net_inductive(log_inicial)\n",
    "\n",
    "#we can add frequency and performance, change the word to FREQUENCY or PERFORMANCE accordingly\n",
    "parameters = {pn_visualizer.Variants.FREQUENCY.value.Parameters.FORMAT: \"png\"}\n",
    "gviz = pn_visualizer.apply(net, initial_marking, final_marking, parameters=parameters, variant=pn_visualizer.Variants.FREQUENCY, log=log_inicial)\n",
    "pn_visualizer.save(gviz, new_folder+\"/Inductive_miner_frequency_IDEAL.png\")\n",
    "pn_visualizer.view(gviz)"
   ]
  },
  {
   "cell_type": "code",
   "execution_count": null,
   "metadata": {},
   "outputs": [],
   "source": [
    "net, initial_marking, final_marking = pm4py.discover_petri_net_inductive(log_no_timeout)\n",
    "\n",
    "#we can add frequency and performance, change the word to FREQUENCY or PERFORMANCE accordingly\n",
    "parameters = {pn_visualizer.Variants.FREQUENCY.value.Parameters.FORMAT: \"png\"}\n",
    "gviz = pn_visualizer.apply(net, initial_marking, final_marking, parameters=parameters, variant=pn_visualizer.Variants.FREQUENCY, log=log_no_timeout)\n",
    "pn_visualizer.save(gviz, new_folder+\"/Inductive_miner_frequency_IDEAL.png\")\n",
    "pn_visualizer.view(gviz)"
   ]
  },
  {
   "cell_type": "markdown",
   "metadata": {},
   "source": [
    "Now that we have an IDEAL model of the operation, we'll get some variables for the real proccess"
   ]
  },
  {
   "cell_type": "markdown",
   "metadata": {},
   "source": [
    "REAL LOG"
   ]
  },
  {
   "cell_type": "markdown",
   "metadata": {},
   "source": [
    "To only get activities that happen fast from 0 to 200 seconds only"
   ]
  },
  {
   "cell_type": "code",
   "execution_count": null,
   "metadata": {},
   "outputs": [],
   "source": [
    "\n",
    "filtered_log = pm4py.filter_case_performance(log_fail, 0, 100)\n",
    "filtered_log"
   ]
  },
  {
   "cell_type": "markdown",
   "metadata": {},
   "source": [
    "Let's check the number of varians, the activities involved (with its frequency) and the resource (with its frequency)\n",
    "\n",
    "\n",
    "Note: the resource can be exchange between robot and random_seed, to do so go back to the log converter and change the name of the resource\n"
   ]
  },
  {
   "cell_type": "code",
   "execution_count": null,
   "metadata": {},
   "outputs": [],
   "source": [
    "variants = pm4py.get_variants(log_fail)\n",
    "activities = pm4py.get_event_attribute_values(log_fail, \"concept:name\")\n",
    "resources = pm4py.get_event_attribute_values(log_fail, \"org:resource\")\n",
    "len(variants)\n",
    "activities"
   ]
  },
  {
   "cell_type": "markdown",
   "metadata": {},
   "source": [
    "If the probability of failure is too high you may enconter filtering the log to only the most k used variables useful"
   ]
  },
  {
   "cell_type": "code",
   "execution_count": null,
   "metadata": {},
   "outputs": [],
   "source": [
    "k=len(variants)\n",
    "log_variantes = pm4py.filter_variants_top_k(log_fail, k)"
   ]
  },
  {
   "cell_type": "markdown",
   "metadata": {},
   "source": [
    "Now, lets say you you want to filter your log only on a especific attribute.\n",
    "You can do it by case meaning all the cases that have that attribute, or by event by filtering only the events containing the attribute"
   ]
  },
  {
   "cell_type": "code",
   "execution_count": null,
   "metadata": {},
   "outputs": [],
   "source": [
    "#You can get all the events containing a attribute\n",
    "tracefilter_log_event = pm4py.filter_event_attribute_values(log_fail, \"org:resource\", [7], level=\"event\", retain=False)\n",
    "#Or all the cases containing a attribute\n",
    "tracefilter_log_case = pm4py.filter_event_attribute_values(log_fail, \"org:resource\", [7], level=\"case\", retain=False)\n"
   ]
  },
  {
   "cell_type": "markdown",
   "metadata": {},
   "source": [
    "Now if we want to check for cases were two activities are follow by one anohter we use this filter, if you can check for example how many times an activity rebooted when x activity happend first, yo can do it here"
   ]
  },
  {
   "cell_type": "code",
   "execution_count": null,
   "metadata": {},
   "outputs": [],
   "source": [
    "Log_between = pm4py.filter_between(log_fail, \"T_0_Busy\", \"T_0_rebooting\")\n",
    "len(filtered_log)"
   ]
  },
  {
   "cell_type": "markdown",
   "metadata": {},
   "source": [
    "To eliminate noise, we can eliminte logs that are too long (rework) or too short (incompleate)"
   ]
  },
  {
   "cell_type": "code",
   "execution_count": null,
   "metadata": {},
   "outputs": [],
   "source": [
    "log_by_size = pm4py.filter_case_size(log_fail, 0, 9)\n",
    "filtered_log"
   ]
  },
  {
   "cell_type": "markdown",
   "metadata": {},
   "source": [
    "To check for activities being excecuted more than k time we use"
   ]
  },
  {
   "cell_type": "code",
   "execution_count": null,
   "metadata": {},
   "outputs": [],
   "source": [
    "k=3\n",
    "filtered_log = pm4py.filter_activities_rework(log_fail, 'T_0_rebooting', k)\n",
    "print(filtered_log)"
   ]
  },
  {
   "cell_type": "markdown",
   "metadata": {},
   "source": [
    "To check for paths that take too long we use paths performance, so we get the list of paths taking longer than expected"
   ]
  },
  {
   "cell_type": "code",
   "execution_count": null,
   "metadata": {},
   "outputs": [],
   "source": [
    "filtered_log = pm4py.filter_paths_performance(log_fail, (\"T_0_Done\", \"T_2_Busy\"), 0, 200)\n",
    "filtered_log"
   ]
  },
  {
   "cell_type": "markdown",
   "metadata": {},
   "source": [
    "We can also model the REAL log, we'll use the same 4 algorithms, but we'll only save the inductive, since it works better and this models won't be used in conformance checking tecniches"
   ]
  },
  {
   "cell_type": "markdown",
   "metadata": {},
   "source": [
    "ALPHA MINER\n",
    "As we will see it has a tough time handeling the concurrent activities "
   ]
  },
  {
   "cell_type": "code",
   "execution_count": null,
   "metadata": {},
   "outputs": [],
   "source": [
    "net_f, initial_marking_f, final_marking_f = pm4py.discover_petri_net_alpha(log_fail)\n",
    "\n",
    "pm4py.view_petri_net(net_f, initial_marking_f, final_marking_f)\n"
   ]
  },
  {
   "cell_type": "markdown",
   "metadata": {},
   "source": [
    "INDUCTIVE MINER\n",
    "\n",
    "This algorithim can be seen as a petri net, as a process tree and as a bpmn model.\n",
    "According to the state of the art literature this alg should be the best at handeling the behaviour of a group of robots"
   ]
  },
  {
   "cell_type": "code",
   "execution_count": null,
   "metadata": {},
   "outputs": [],
   "source": [
    "net_f, initial_marking_f, final_marking_f = pm4py.discover_petri_net_inductive(log_fail)\n",
    "\n",
    "#we can add frequency and performance, change the word to FREQUENCY or PERFORMANCE accordingly\n",
    "parameters = {pn_visualizer.Variants.PERFORMANCE.value.Parameters.FORMAT: \"png\"}\n",
    "gviz = pn_visualizer.apply(net_f, initial_marking_f, final_marking_f, variant=pn_visualizer.Variants.FREQUENCY, log=log_fail)\n",
    "pn_visualizer.view(gviz)\n",
    "pn_visualizer.save(gviz, new_folder+\"/Inductive_miner_frequency_REAL.png\")\n"
   ]
  },
  {
   "cell_type": "code",
   "execution_count": null,
   "metadata": {},
   "outputs": [],
   "source": [
    "tree = pm4py.discover_process_tree_inductive(log_fail)\n",
    "pm4py.view_process_tree(tree)\n"
   ]
  },
  {
   "cell_type": "code",
   "execution_count": null,
   "metadata": {},
   "outputs": [],
   "source": [
    "bpmn_graph = pm4py.discover_bpmn_inductive(log_fail)\n",
    "pm4py.view_bpmn(bpmn_graph)\n"
   ]
  },
  {
   "cell_type": "markdown",
   "metadata": {},
   "source": [
    "    HEURISTIC MINER\n",
    "\n",
    "    Heuristics Miner is an algorithm that acts on the Directly-Follows Graph, providing way to handle with noise and to find common constructs (dependency between two activities, AND).\n",
    "\n",
    "    We will obtain a Heuristic net and a Petri Net"
   ]
  },
  {
   "cell_type": "code",
   "execution_count": null,
   "metadata": {},
   "outputs": [],
   "source": [
    "#Heuristic net\n",
    "heu_net = pm4py.discover_heuristics_net(log_fail, dependency_threshold=0.99)\n",
    "#pm4py.view_heuristics_net(heu_net)"
   ]
  },
  {
   "cell_type": "code",
   "execution_count": null,
   "metadata": {},
   "outputs": [],
   "source": [
    "#Petri net\n",
    "net_f, initial_marking_f, final_marking_f= pm4py.discover_petri_net_heuristics(log_fail, dependency_threshold=0.99)\n",
    "#pm4py.view_petri_net(net_f, initial_marking_f, final_marking_f)"
   ]
  },
  {
   "cell_type": "markdown",
   "metadata": {},
   "source": [
    "ILP MINER"
   ]
  },
  {
   "cell_type": "code",
   "execution_count": null,
   "metadata": {},
   "outputs": [],
   "source": [
    "net_f, initial_marking_f, final_marking_f = pm4py.discovery.discover_petri_net_ilp(log_fail)\n",
    "pm4py.view_petri_net(net_f, initial_marking_f, final_marking_f)\n"
   ]
  },
  {
   "cell_type": "markdown",
   "metadata": {},
   "source": [
    "A great tool that allows us to check exactly activities that follow one another are directly follows diagrams, we have some bellow"
   ]
  },
  {
   "cell_type": "code",
   "execution_count": null,
   "metadata": {},
   "outputs": [],
   "source": [
    "dfg, start_activities, end_activities = pm4py.discover_dfg(log_fail)\n",
    "#pm4py.view_dfg(dfg, start_activities, end_activities)"
   ]
  },
  {
   "cell_type": "markdown",
   "metadata": {},
   "source": [
    "If you want to add performance (average time) to the dfg"
   ]
  },
  {
   "cell_type": "code",
   "execution_count": null,
   "metadata": {},
   "outputs": [],
   "source": [
    "performance_dfg, start_activities, end_activities = pm4py.discover_performance_dfg(log_fail)\n",
    "#pm4py.view_performance_dfg(performance_dfg, start_activities, end_activities)"
   ]
  },
  {
   "cell_type": "markdown",
   "metadata": {},
   "source": [
    "If the model is too complicated, but you want to analize it visually you can decompose it into smaller pieces, here you have the code"
   ]
  },
  {
   "cell_type": "code",
   "execution_count": null,
   "metadata": {},
   "outputs": [],
   "source": [
    "\n",
    "net_f, initial_marking_f, final_marking_f = pm4py.discover_petri_net_inductive(log_fail)\n",
    "list_nets = decompose(net_f, initial_marking_f, final_marking_f)\n",
    "for index, model in enumerate(list_nets):\n",
    "    subnet, s_im, s_fm = model\n",
    "    #pm4py.view_petri_net(subnet, s_im, s_fm)"
   ]
  },
  {
   "cell_type": "markdown",
   "metadata": {},
   "source": [
    "Great!\n",
    "All that you just did is contamplated in process mining as process discovery, hope it was fun, there are many many other tools you can use, check the pm4py website if you want to explore them further.\n",
    "\n",
    "Now we will be doing Conformance Checking, here we will use our REAL LOG and our IDEAL MODEL, we will compare them and if there are anomalies as we expect, we'll try to detect them"
   ]
  },
  {
   "cell_type": "markdown",
   "metadata": {},
   "source": [
    "Conformance Checking"
   ]
  },
  {
   "cell_type": "markdown",
   "metadata": {},
   "source": [
    "Token-based replay\n",
    "\n",
    " Based on this comparison, token replay provides insights into whether the recorded process adheres to the expected process model. It can identify deviations, missing steps, or extra steps in the actual process."
   ]
  },
  {
   "cell_type": "code",
   "execution_count": null,
   "metadata": {},
   "outputs": [],
   "source": [
    "import csv\n",
    "\n",
    "# Create a list to store trace results\n",
    "trace_results_list = []\n",
    "\n",
    "replayed_traces = pm4py.conformance_diagnostics_token_based_replay(log_fail, net, initial_marking, final_marking)\n",
    "\n",
    "# Iterate through the replayed traces and access conformance metrics for each trace\n",
    "for i, trace_result in enumerate(replayed_traces, start=1):\n",
    "    trace_is_fit = trace_result['trace_is_fit']  # Boolean indicating if the trace fits the model\n",
    "    trace_fitness = trace_result['trace_fitness']  # Fitness value for the trace\n",
    "    missing_tokens = trace_result['missing_tokens']  # Number of missing tokens\n",
    "    consumed_tokens = trace_result['consumed_tokens']  # Number of consumed tokens\n",
    "    remaining_tokens = trace_result['remaining_tokens']  # Number of remaining tokens\n",
    "    produced_tokens = trace_result['produced_tokens']  # Number of produced tokens\n",
    "\n",
    "    # Create a dictionary to store trace results\n",
    "    trace_result_dict = {\n",
    "        \"Trace Number\": i,\n",
    "        \"Trace Is Fit\": trace_is_fit,\n",
    "        \"Trace Fitness\": trace_fitness,\n",
    "        \"Missing Tokens\": missing_tokens,\n",
    "        \"Consumed Tokens\": consumed_tokens,\n",
    "        \"Remaining Tokens\": remaining_tokens,\n",
    "        \"Produced Tokens\": produced_tokens\n",
    "    }\n",
    "\n",
    "    # Append the trace result dictionary to the list\n",
    "    trace_results_list.append(trace_result_dict)\n",
    "\n",
    "    # Access other information as needed\n",
    "    activated_transitions = trace_result['activated_transitions']\n",
    "    reached_marking = trace_result['reached_marking']\n",
    "    transitions_with_problems = trace_result['transitions_with_problems']\n",
    "    enabled_transitions_in_marking = trace_result['enabled_transitions_in_marking']\n",
    "\n",
    "# Define the path to the CSV file\n",
    "csv_file_path = new_folder+\"/trace_results.csv\"\n",
    "\n",
    "# Define the CSV fieldnames\n",
    "fieldnames = [\"Trace Number\", \"Trace Is Fit\", \"Trace Fitness\", \"Missing Tokens\", \"Consumed Tokens\", \"Remaining Tokens\", \"Produced Tokens\"]\n",
    "\n",
    "# Write the trace results to a CSV file with separators\n",
    "with open(csv_file_path, mode='w', newline='') as csv_file:\n",
    "    writer = csv.DictWriter(csv_file, fieldnames=fieldnames)\n",
    "    \n",
    "    # Write the header row\n",
    "    writer.writeheader()\n",
    "    \n",
    "    for trace_result_dict in trace_results_list:\n",
    "        # Write the trace results\n",
    "        writer.writerow(trace_result_dict)\n",
    "        \n",
    "        # Write a separator row\n",
    "        writer.writerow({key: '-' * 10 for key in fieldnames})\n",
    "\n",
    "print(f\"Trace results have been exported to {csv_file_path}\")"
   ]
  },
  {
   "cell_type": "markdown",
   "metadata": {},
   "source": [
    "Diagnostics (TBR)\n",
    "\n",
    "\n",
    "\"The execution of token-based replay in pm4py permits to obtain detailed information about transitions that did not execute correctly, or activities that are in the log and not in the model. In particular, executions that do not match the model are expected to take longer throughput time.\""
   ]
  },
  {
   "cell_type": "code",
   "execution_count": null,
   "metadata": {},
   "outputs": [],
   "source": [
    "from pm4py.algo.conformance.tokenreplay import algorithm as token_based_replay\n",
    "net, initial_marking, final_marking = pm4py.discover_petri_net_inductive(log_inicial)\n",
    "log_fail = log_converter.apply(events_fail)\n",
    "\n",
    "parameters_tbr = {token_based_replay.Variants.TOKEN_REPLAY.value.Parameters.DISABLE_VARIANTS: True, token_based_replay.Variants.TOKEN_REPLAY.value.Parameters.ENABLE_PLTR_FITNESS: True}\n",
    "replayed_traces, place_fitness, trans_fitness, unwanted_activities = token_based_replay.apply(log_fail, net,\n",
    "                                                                                                initial_marking,\n",
    "                                                                                                final_marking,\n",
    "                                                                                                parameters=parameters_tbr)\n",
    "\n",
    "print(trans_fitness)\n",
    "\n",
    "csv_file_path = new_folder+\"/trans_fitness.csv\"\n",
    "\n",
    "# Open the CSV file for writing and create a CSV writer\n",
    "with open(csv_file_path, mode='w', newline='') as csv_file:\n",
    "    fieldnames = ['Underfed_Traces', 'Fit_Traces']\n",
    "    writer = csv.DictWriter(csv_file, fieldnames=fieldnames)\n",
    "\n",
    "    # Write the header row to the CSV file\n",
    "    writer.writeheader()\n",
    "\n",
    "    # Iterate through the trans_fitness dictionary and write each entry to the CSV file\n",
    "    for fitness_data in trans_fitness.values():\n",
    "        writer.writerow({\n",
    "            'Underfed_Traces': str(fitness_data['underfed_traces']),\n",
    "            'Fit_Traces': str(fitness_data['fit_traces'])\n",
    "        })"
   ]
  },
  {
   "cell_type": "markdown",
   "metadata": {},
   "source": [
    "Throughput analysis (unfit execution)\n",
    "\n",
    "To perform throughput analysis on the transitions that were executed unfit, and then print on the console the result, the following code could be used:"
   ]
  },
  {
   "cell_type": "markdown",
   "metadata": {},
   "source": [
    "Throughput analysis (activities)\n",
    "\n",
    "\n",
    "To perform throughput analysis on the process executions containing activities that are not in the model, and then print the result on the screen, the following code could be used:"
   ]
  },
  {
   "cell_type": "markdown",
   "metadata": {},
   "source": [
    "Alingments"
   ]
  },
  {
   "cell_type": "code",
   "execution_count": null,
   "metadata": {},
   "outputs": [],
   "source": [
    "aligned_traces = pm4py.conformance_diagnostics_alignments(log_fail, net, initial_marking, final_marking)\n",
    "pm4py.fitness_alignments(log_fail, net, initial_marking, final_marking)\n",
    "aligned_traces"
   ]
  },
  {
   "cell_type": "code",
   "execution_count": null,
   "metadata": {},
   "outputs": [],
   "source": [
    "import os\n",
    "\n",
    "from pm4py import util\n",
    "from pm4py.algo.conformance import alignments as ali\n",
    "from pm4py.algo.conformance.alignments.petri_net.variants.state_equation_a_star import Parameters\n",
    "from pm4py.objects import log as log_lib\n",
    "from pm4py.objects.log.importer.xes import importer as xes_importer\n",
    "from pm4py.objects.petri_net.importer import importer as petri_importer\n",
    "from pm4py.objects.petri_net.utils.align_utils import pretty_print_alignments\n",
    "\n",
    "\n",
    "def align(trace, net, im, fm, model_cost_function, sync_cost_function):\n",
    "    trace_costs = list(map(lambda e: 1000, trace))\n",
    "    params = dict()\n",
    "    params[util.constants.PARAMETER_CONSTANT_ACTIVITY_KEY] = log_lib.util.xes.DEFAULT_NAME_KEY\n",
    "    params[Parameters.PARAM_MODEL_COST_FUNCTION] = model_cost_function\n",
    "    params[Parameters.PARAM_TRACE_COST_FUNCTION] = trace_costs\n",
    "    params[Parameters.PARAM_SYNC_COST_FUNCTION] = sync_cost_function\n",
    "    return ali.petri_net.algorithm.apply_trace(trace, net, im, fm, parameters=params,\n",
    "                                   variant=ali.petri_net.algorithm.VERSION_STATE_EQUATION_A_STAR)\n",
    "\n",
    "\n",
    "def execute_script():\n",
    "\n",
    "    model_cost_function = dict()\n",
    "    sync_cost_function = dict()\n",
    "    for t in net.transitions:\n",
    "        if t.label is not None:\n",
    "            model_cost_function[t] = 1000\n",
    "            sync_cost_function[t] = 0\n",
    "        else:\n",
    "            model_cost_function[t] = 1\n",
    "\n",
    "    alignments = []\n",
    "    for trace in log_fail:\n",
    "        alignments.append(align(trace, net, initial_marking, final_marking, model_cost_function, sync_cost_function))\n",
    "\n",
    "    pretty_print_alignments(alignments)\n",
    "\n",
    "\n",
    "execute_script()"
   ]
  },
  {
   "cell_type": "markdown",
   "metadata": {},
   "source": [
    "Throughput Time\n",
    "Para mirar la duración de cada caso"
   ]
  },
  {
   "cell_type": "code",
   "execution_count": null,
   "metadata": {},
   "outputs": [],
   "source": [
    "all_case_durations = pm4py.get_all_case_durations(log_fail)\n",
    "all_case_durations"
   ]
  },
  {
   "cell_type": "markdown",
   "metadata": {},
   "source": [
    "Cycle Time and Waiting Time\n"
   ]
  },
  {
   "cell_type": "code",
   "execution_count": null,
   "metadata": {},
   "outputs": [],
   "source": [
    "from pm4py.objects.log.util import interval_lifecycle\n",
    "enriched_log = interval_lifecycle.assign_lead_cycle_time(log_fail)\n",
    "enriched_log\n"
   ]
  },
  {
   "cell_type": "markdown",
   "metadata": {},
   "source": [
    "Eventualy follows graph are a useful tool too"
   ]
  },
  {
   "cell_type": "code",
   "execution_count": null,
   "metadata": {},
   "outputs": [],
   "source": [
    "efg_graph = pm4py.discover_eventually_follows_graph(log_fail)\n",
    "efg_graph"
   ]
  },
  {
   "cell_type": "markdown",
   "metadata": {},
   "source": [
    "Distribución de la duración de un caso"
   ]
  },
  {
   "cell_type": "code",
   "execution_count": null,
   "metadata": {},
   "outputs": [],
   "source": [
    "\n",
    "from pm4py.util import constants\n",
    "from pm4py.statistics.traces.generic.log import case_statistics\n",
    "x, y = case_statistics.get_kde_caseduration(log_fail, parameters={constants.PARAMETER_CONSTANT_TIMESTAMP_KEY: \"time:timestamp\"})\n",
    "\n",
    "from pm4py.visualization.graphs import visualizer as graphs_visualizer\n",
    "\n",
    "gviz = graphs_visualizer.apply_plot(x, y, variant=graphs_visualizer.Variants.CASES)\n",
    "graphs_visualizer.view(gviz)\n",
    "\n",
    "gviz = graphs_visualizer.apply_semilogx(x, y, variant=graphs_visualizer.Variants.CASES)\n",
    "#graphs_visualizer.view(gviz)\n",
    "                                    "
   ]
  },
  {
   "cell_type": "markdown",
   "metadata": {},
   "source": [
    "Distribution of events over time"
   ]
  },
  {
   "cell_type": "code",
   "execution_count": null,
   "metadata": {},
   "outputs": [],
   "source": [
    "from pm4py.algo.filtering.log.attributes import attributes_filter\n",
    "\n",
    "\n",
    "x, y = attributes_filter.get_kde_date_attribute(log_fail, attribute=\"time:timestamp\")\n",
    "\n",
    "from pm4py.visualization.graphs import visualizer as graphs_visualizer\n",
    "\n",
    "gviz = graphs_visualizer.apply_plot(x, y, variant=graphs_visualizer.Variants.DATES)\n",
    "graphs_visualizer.view(gviz)"
   ]
  },
  {
   "cell_type": "markdown",
   "metadata": {},
   "source": [
    "Dotted Chart\n"
   ]
  },
  {
   "cell_type": "code",
   "execution_count": null,
   "metadata": {},
   "outputs": [],
   "source": [
    "#pm4py.view_dotted_chart(log_fail, format=\"png\")\n",
    "                                    "
   ]
  },
  {
   "cell_type": "code",
   "execution_count": null,
   "metadata": {},
   "outputs": [],
   "source": [
    "from pm4py.algo.discovery.batches import algorithm\n",
    "batches = algorithm.apply(log_fail)\n",
    "batches"
   ]
  },
  {
   "cell_type": "markdown",
   "metadata": {},
   "source": [
    "Replay Fitness\n"
   ]
  },
  {
   "cell_type": "code",
   "execution_count": null,
   "metadata": {},
   "outputs": [],
   "source": [
    "net, marking, fmarking = pm4py.discover_petri_net_inductive(log_inicial)\n",
    "\n",
    "fitness = pm4py.fitness_alignments(log_fail, net, marking, fmarking)\n",
    "fitness\n"
   ]
  },
  {
   "cell_type": "code",
   "execution_count": null,
   "metadata": {},
   "outputs": [],
   "source": [
    "prec = pm4py.precision_alignments(log_fail, net, marking, fmarking)\n",
    "prec"
   ]
  },
  {
   "cell_type": "code",
   "execution_count": null,
   "metadata": {},
   "outputs": [],
   "source": [
    "from pm4py.algo.evaluation.generalization import algorithm as generalization_evaluator\n",
    "\n",
    "gen = generalization_evaluator.apply(log_fail, net, marking, fmarking)\n",
    "gen\n"
   ]
  },
  {
   "cell_type": "code",
   "execution_count": null,
   "metadata": {},
   "outputs": [],
   "source": [
    "from pm4py.algo.evaluation.simplicity import algorithm as simplicity_evaluator\n",
    "simp = simplicity_evaluator.apply(net)\n",
    "simp"
   ]
  }
 ],
 "metadata": {
  "kernelspec": {
   "display_name": "Python 3",
   "language": "python",
   "name": "python3"
  },
  "language_info": {
   "codemirror_mode": {
    "name": "ipython",
    "version": 3
   },
   "file_extension": ".py",
   "mimetype": "text/x-python",
   "name": "python",
   "nbconvert_exporter": "python",
   "pygments_lexer": "ipython3",
   "version": "3.8.10"
  },
  "orig_nbformat": 4
 },
 "nbformat": 4,
 "nbformat_minor": 2
}
